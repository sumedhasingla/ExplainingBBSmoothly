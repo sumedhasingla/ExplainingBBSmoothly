{
 "cells": [
  {
   "cell_type": "markdown",
   "metadata": {},
   "source": [
    "# Imports"
   ]
  },
  {
   "cell_type": "code",
   "execution_count": 1,
   "metadata": {},
   "outputs": [],
   "source": [
    "import numpy as np\n",
    "import pandas as pd\n",
    "import os\n",
    "import matplotlib.pyplot as plt\n",
    "import sys\n",
    "sys.path.append(\"/ocean/projects/asc170022p/singla/ExplainingBBSmoothly/\")\n",
    "import yaml\n",
    "from utils import *\n",
    "from sklearn.metrics import roc_auc_score\n",
    "from sklearn.metrics import accuracy_score\n",
    "from sklearn.metrics import recall_score\n",
    "from sklearn.metrics import confusion_matrix\n",
    "import scipy.misc as scm\n",
    "import warnings\n",
    "warnings.filterwarnings(\"ignore\")\n",
    "warnings.filterwarnings(\"ignore\", category=DeprecationWarning) \n",
    "np.random.seed(0)"
   ]
  },
  {
   "cell_type": "code",
   "execution_count": 2,
   "metadata": {},
   "outputs": [],
   "source": [
    "main_dir = '/ocean/projects/asc170022p/singla/ExplainingBBSmoothly'"
   ]
  },
  {
   "cell_type": "markdown",
   "metadata": {},
   "source": [
    "# Get classifier training config"
   ]
  },
  {
   "cell_type": "code",
   "execution_count": 3,
   "metadata": {},
   "outputs": [
    {
     "name": "stdout",
     "output_type": "stream",
     "text": [
      "('output_folder_name', 'Classifier_Output_MIMIC')\n",
      "('partition', 'test')\n",
      "('feature_names', 'dense_2,dense_3,dense_4')\n",
      "('image_dir', '/ocean/projects/asc170022p/shared/Data/chestXRayDatasets/StanfordCheXpert')\n",
      "('output_csv', '/ocean/projects/asc170022p/singla/ExplainingBBSmoothly/data/MIMIC_CXR_PA_AP_views_image_report_labels.csv')\n",
      "('do_center_crop', True)\n",
      "('batch_size', 400)\n",
      "('num_channel', 1)\n",
      "('epochs', 10)\n",
      "('seed', 0)\n",
      "('classifier_type', 'DenseNet')\n",
      "('training_columns_to_repeat', '')\n",
      "('uncertain_label', 0)\n",
      "('categories', 'Lung Lesion,Pleural Effusion,Edema,Cardiomegaly,Consolidation,Support Devices,No Finding,Pneumonia,Fracture,Atelectasis,Pneumothorax,Enlarged Cardiomediastinum,Lung Opacity,Pleural Other')\n",
      "('crop_size', 225)\n",
      "('num_class', 14)\n",
      "('name', 'StanfordCheXpert_256')\n",
      "('ckpt_dir_continue', 'output/classifier/StanfordCheXpert_256')\n",
      "('use_output_csv', True)\n",
      "('output_csv_names_column', 'lateral_512_jpeg')\n",
      "('feature', False)\n",
      "('path_column', 'Path')\n",
      "('train', '/ocean/projects/asc170022p/shared/Data/chestXRayDatasets/StanfordCheXpert/CheXpert-v1.0-small/train.csv')\n",
      "('log_dir', 'output/classifier')\n",
      "('weights_in_batch', 0)\n",
      "('test', '/ocean/projects/asc170022p/shared/Data/chestXRayDatasets/StanfordCheXpert/CheXpert-v1.0-small/valid.csv')\n",
      "('input_size', 256)\n",
      "('only_frontal', 1)\n",
      "('names', '')\n"
     ]
    }
   ],
   "source": [
    "config = os.path.join(main_dir, 'configs/Step_1_StanfordCheXpert_Classifier_256.yaml')\n",
    "config = yaml.load(open(config))\n",
    "for k in config.keys():\n",
    "    print(k, config[k])\n",
    "categories = config['categories'].split(',')"
   ]
  },
  {
   "cell_type": "markdown",
   "metadata": {},
   "source": [
    "# Check classifier on MIMIC dataset - test set"
   ]
  },
  {
   "cell_type": "code",
   "execution_count": 4,
   "metadata": {},
   "outputs": [
    {
     "name": "stdout",
     "output_type": "stream",
     "text": [
      "/ocean/projects/asc170022p/singla/ExplainingBBSmoothly/output/classifier/StanfordCheXpert_256/Classifier_Output_MIMIC\n"
     ]
    }
   ],
   "source": [
    "output_dir = os.path.join(main_dir,config['log_dir'], config['name'], config['output_folder_name'])\n",
    "print(output_dir)"
   ]
  },
  {
   "cell_type": "code",
   "execution_count": 5,
   "metadata": {},
   "outputs": [
    {
     "name": "stdout",
     "output_type": "stream",
     "text": [
      "((215200,), (215200, 14), (215200, 14))\n",
      "('True labels: ', array([0., 1.], dtype=float32))\n"
     ]
    }
   ],
   "source": [
    "# Read classifier output\n",
    "train_or_test = config['partition']\n",
    "names = np.load(os.path.join(output_dir, 'name_'+train_or_test+'.npy'),allow_pickle=True)\n",
    "prediction_y = np.load(os.path.join(output_dir, 'prediction_y_'+train_or_test+'.npy'))\n",
    "true_y = np.load(os.path.join(output_dir, 'true_y_'+train_or_test+'.npy'))\n",
    "print(names.shape, prediction_y.shape, true_y.shape)\n",
    "print('True labels: ', np.unique(true_y))"
   ]
  },
  {
   "cell_type": "code",
   "execution_count": 6,
   "metadata": {},
   "outputs": [
    {
     "name": "stdout",
     "output_type": "stream",
     "text": [
      "('Pleural Effusion', 1)\n",
      "('ROC-AUC: ', 0.8658145410469027)\n",
      "('Accuracy: ', 0.7574814126394052)\n",
      "('Recall: ', 0.8485785271303128)\n",
      "('Stats: ', (array([0., 1.], dtype=float32), array([162473,  52727])), 44743)\n",
      "[[118267  44206]\n",
      " [  7984  44743]]\n",
      "('Edema', 2)\n",
      "('ROC-AUC: ', 0.853515091026822)\n",
      "('Accuracy: ', 0.7722537174721189)\n",
      "('Recall: ', 0.7812955714176069)\n",
      "('Stats: ', (array([0., 1.], dtype=float32), array([189142,  26058])), 20359)\n",
      "[[145830  43312]\n",
      " [  5699  20359]]\n",
      "('Cardiomegaly', 3)\n",
      "('ROC-AUC: ', 0.7646970077741333)\n",
      "('Accuracy: ', 0.6134386617100371)\n",
      "('Recall: ', 0.8118751275249949)\n",
      "('Stats: ', (array([0., 1.], dtype=float32), array([175992,  39208])), 31832)\n",
      "[[100180  75812]\n",
      " [  7376  31832]]\n"
     ]
    }
   ],
   "source": [
    "# Compute Metrics\n",
    "for i in [1,2,3]:\n",
    "    pred_y =  (prediction_y[:,i]>0.5).astype(int)\n",
    "    print(categories[i], i)\n",
    "    print(\"ROC-AUC: \", roc_auc_score(true_y[:,i], prediction_y[:,i]))\n",
    "    print(\"Accuracy: \", accuracy_score(true_y[:,i],pred_y))\n",
    "    print(\"Recall: \", recall_score(true_y[:,i], pred_y))\n",
    "    tp = np.sum((prediction_y[true_y[:,i] == 1,i]>0.5).astype(int))\n",
    "    print(\"Stats: \", np.unique(true_y[:,i], return_counts=True), tp)\n",
    "    print(confusion_matrix(true_y[:,i],  pred_y))"
   ]
  },
  {
   "cell_type": "markdown",
   "metadata": {},
   "source": [
    "# Select a  class to create explanation"
   ]
  },
  {
   "cell_type": "code",
   "execution_count": 25,
   "metadata": {},
   "outputs": [
    {
     "name": "stdout",
     "output_type": "stream",
     "text": [
      "Cardiomegaly\n"
     ]
    }
   ],
   "source": [
    "current_index = 3\n",
    "name = categories[current_index]\n",
    "print(name)"
   ]
  },
  {
   "cell_type": "code",
   "execution_count": 26,
   "metadata": {},
   "outputs": [
    {
     "name": "stdout",
     "output_type": "stream",
     "text": [
      "(215200, 4)\n",
      "(array([0, 1, 2, 3, 4, 5, 6, 7, 8, 9]), array([27153, 28219, 20711, 16656, 14817, 14258, 14752, 16498, 21586,\n",
      "       40550]))\n"
     ]
    },
    {
     "data": {
      "text/html": [
       "<div>\n",
       "<style scoped>\n",
       "    .dataframe tbody tr th:only-of-type {\n",
       "        vertical-align: middle;\n",
       "    }\n",
       "\n",
       "    .dataframe tbody tr th {\n",
       "        vertical-align: top;\n",
       "    }\n",
       "\n",
       "    .dataframe thead th {\n",
       "        text-align: right;\n",
       "    }\n",
       "</style>\n",
       "<table border=\"1\" class=\"dataframe\">\n",
       "  <thead>\n",
       "    <tr style=\"text-align: right;\">\n",
       "      <th></th>\n",
       "      <th>names</th>\n",
       "      <th>Cardiomegaly</th>\n",
       "      <th>Cardiomegaly_prob</th>\n",
       "      <th>bin</th>\n",
       "    </tr>\n",
       "  </thead>\n",
       "  <tbody>\n",
       "    <tr>\n",
       "      <th>0</th>\n",
       "      <td>/ocean/projects/asc170022p/shared/Data/chestXR...</td>\n",
       "      <td>0.0</td>\n",
       "      <td>0.063431</td>\n",
       "      <td>0</td>\n",
       "    </tr>\n",
       "    <tr>\n",
       "      <th>1</th>\n",
       "      <td>/ocean/projects/asc170022p/shared/Data/chestXR...</td>\n",
       "      <td>0.0</td>\n",
       "      <td>0.084561</td>\n",
       "      <td>0</td>\n",
       "    </tr>\n",
       "  </tbody>\n",
       "</table>\n",
       "</div>"
      ],
      "text/plain": [
       "                                               names  Cardiomegaly  \\\n",
       "0  /ocean/projects/asc170022p/shared/Data/chestXR...           0.0   \n",
       "1  /ocean/projects/asc170022p/shared/Data/chestXR...           0.0   \n",
       "\n",
       "   Cardiomegaly_prob  bin  \n",
       "0           0.063431    0  \n",
       "1           0.084561    0  "
      ]
     },
     "execution_count": 26,
     "metadata": {},
     "output_type": "execute_result"
    }
   ],
   "source": [
    "df_explain = pd.DataFrame()\n",
    "df_explain['names'] = names\n",
    "df_explain[name] = true_y[:,current_index]\n",
    "df_explain[name+'_prob'] = prediction_y[:,current_index]\n",
    "df_explain['bin'] = np.floor(df_explain[name+'_prob'].astype('float') * 10).astype('int')\n",
    "df_explain = df_explain.drop_duplicates()\n",
    "print(df_explain.shape)\n",
    "print(np.unique(df_explain['bin'], return_counts=True))\n",
    "df_explain.head(2)"
   ]
  },
  {
   "cell_type": "code",
   "execution_count": 27,
   "metadata": {},
   "outputs": [
    {
     "data": {
      "image/png": "[encoded data removed]",
      "text/plain": [
       "<Figure size 432x288 with 1 Axes>"
      ]
     },
     "metadata": {
      "needs_background": "light"
     },
     "output_type": "display_data"
    }
   ],
   "source": [
    "#Reliability Curve\n",
    "from sklearn.calibration import CalibratedClassifierCV, calibration_curve\n",
    "from sklearn.metrics import (brier_score_loss, precision_score, recall_score,f1_score)\n",
    "true_label = np.asarray(df_explain[name]).astype(int)\n",
    "predicted_prob = np.asarray(df_explain[name+'_prob']).astype(float)\n",
    "fraction_of_positives, mean_predicted_value = calibration_curve(true_label, predicted_prob, n_bins=10)\n",
    "clf_score = brier_score_loss(true_label, predicted_prob, pos_label=1)\n",
    "plt.plot(mean_predicted_value, fraction_of_positives, \"s-\",\n",
    "                 label=\"%s (%1.3f)\" % ('Data-before binning', clf_score))\n",
    "plt.plot([0, 1], [0, 1], \"k:\", label=\"Perfectly calibrated\")\n",
    "plt.ylabel('Fraction of positives')\n",
    "#plt.ylim([-0.05, 1.05])\n",
    "plt.title('Calibration plots  (reliability curve) for full label for '+ name)\n",
    "plt.legend()\n",
    "plt.show()"
   ]
  },
  {
   "cell_type": "markdown",
   "metadata": {},
   "source": [
    "# Create Training Data for the Explainer"
   ]
  },
  {
   "cell_type": "code",
   "execution_count": 76,
   "metadata": {},
   "outputs": [],
   "source": [
    "n = 4000"
   ]
  },
  {
   "cell_type": "code",
   "execution_count": 84,
   "metadata": {
    "collapsed": true
   },
   "outputs": [
    {
     "name": "stdout",
     "output_type": "stream",
     "text": [
      "0\n",
      "(4000, 4)\n",
      "(array([0., 1.], dtype=float32), array([3791,  209]))\n",
      "1\n",
      "(8000, 4)\n",
      "(array([0., 1.], dtype=float32), array([3064,  936]))\n",
      "2\n",
      "(12000, 4)\n",
      "(array([0., 1.], dtype=float32), array([2583, 1417]))\n",
      "3\n",
      "(16000, 4)\n",
      "(array([0., 1.], dtype=float32), array([2301, 1699]))\n",
      "4\n",
      "(20000, 4)\n",
      "(array([0., 1.], dtype=float32), array([1911, 2089]))\n",
      "5\n",
      "(24000, 4)\n",
      "(array([0., 1.], dtype=float32), array([1721, 2279]))\n",
      "6\n",
      "(28000, 4)\n",
      "(array([0., 1.], dtype=float32), array([1421, 2579]))\n",
      "7\n",
      "(32000, 4)\n",
      "(array([0., 1.], dtype=float32), array([1206, 2794]))\n",
      "8\n",
      "(36000, 4)\n",
      "(array([0., 1.], dtype=float32), array([ 921, 3079]))\n",
      "9\n",
      "(40000, 4)\n",
      "(array([0., 1.], dtype=float32), array([ 606, 3394]))\n"
     ]
    }
   ],
   "source": [
    "np.random.seed(0)\n",
    "for i in range(0,10):\n",
    "    print i\n",
    "    df_bin = df_explain.loc[df_explain['bin'] == i]\n",
    "    df_bin = df_bin.sample(n=n)\n",
    "    if i == 0:\n",
    "        df_bin_all = df_bin\n",
    "    else:\n",
    "        df_bin_all = pd.concat([df_bin, df_bin_all])\n",
    "    print(df_bin_all.shape)\n",
    "    print(np.unique(df_bin[name],return_counts=True))"
   ]
  },
  {
   "cell_type": "code",
   "execution_count": 85,
   "metadata": {},
   "outputs": [
    {
     "name": "stdout",
     "output_type": "stream",
     "text": [
      "(array([0, 1, 2, 3, 4, 5, 6, 7, 8, 9]), array([4000, 4000, 4000, 4000, 4000, 4000, 4000, 4000, 4000, 4000]))\n"
     ]
    }
   ],
   "source": [
    "print(np.unique(df_bin_all['bin'] ,return_counts=True))"
   ]
  },
  {
   "cell_type": "code",
   "execution_count": 86,
   "metadata": {},
   "outputs": [
    {
     "data": {
      "image/png": "[encoded data removed]",
      "text/plain": [
       "<Figure size 432x288 with 1 Axes>"
      ]
     },
     "metadata": {
      "needs_background": "light"
     },
     "output_type": "display_data"
    }
   ],
   "source": [
    "#Reliability Curve\n",
    "from sklearn.calibration import CalibratedClassifierCV, calibration_curve\n",
    "from sklearn.metrics import (brier_score_loss, precision_score, recall_score,\n",
    "                             f1_score)\n",
    "true_label = np.asarray(df_bin_all[name]).astype(int)\n",
    "predicted_prob = np.asarray(df_bin_all[name+'_prob']).astype(float)\n",
    "fraction_of_positives, mean_predicted_value = calibration_curve(true_label, predicted_prob, n_bins=10)\n",
    "clf_score = brier_score_loss(true_label, predicted_prob, pos_label=1)\n",
    "plt.plot(mean_predicted_value, fraction_of_positives, \"s-\",\n",
    "                 label=\"%s (%1.3f)\" % ('Data-after binning', clf_score))\n",
    "plt.plot([0, 1], [0, 1], \"k:\", label=\"Perfectly calibrated\")\n",
    "plt.ylabel('Fraction of positives')\n",
    "plt.ylim([-0.05, 1.05])\n",
    "plt.title('Calibration plots  (reliability curve) for '+name)\n",
    "plt.legend()\n",
    "plt.show()"
   ]
  },
  {
   "cell_type": "markdown",
   "metadata": {},
   "source": [
    "# [Optional] Create Training Data for the Explainer: Calibrated"
   ]
  },
  {
   "cell_type": "code",
   "execution_count": 28,
   "metadata": {},
   "outputs": [],
   "source": [
    "n = 4000"
   ]
  },
  {
   "cell_type": "code",
   "execution_count": 29,
   "metadata": {},
   "outputs": [
    {
     "name": "stdout",
     "output_type": "stream",
     "text": [
      "0\n",
      "(27153, 4)\n",
      "(0.0044471323, 0.09999737)\n",
      "(array([0., 1.], dtype=float32), array([26523,   630]))\n",
      "(4000, 4)\n",
      "(array([0.], dtype=float32), array([4000]))\n",
      "1\n",
      "(28219, 4)\n",
      "(0.10000324, 0.19999942)\n",
      "(array([0., 1.], dtype=float32), array([26828,  1391]))\n",
      "(8000, 4)\n",
      "(array([0., 1.], dtype=float32), array([3600,  400]))\n",
      "2\n",
      "(20711, 4)\n",
      "(0.2000001, 0.29999906)\n",
      "(array([0., 1.], dtype=float32), array([19080,  1631]))\n",
      "(12000, 4)\n",
      "(array([0., 1.], dtype=float32), array([3200,  800]))\n",
      "3\n",
      "(16656, 4)\n",
      "(0.30000094, 0.39999563)\n",
      "(array([0., 1.], dtype=float32), array([14857,  1799]))\n",
      "(16000, 4)\n",
      "(array([0., 1.], dtype=float32), array([2800, 1200]))\n",
      "4\n",
      "(14817, 4)\n",
      "(0.4000057, 0.49999973)\n",
      "(array([0., 1.], dtype=float32), array([12892,  1925]))\n",
      "(20000, 4)\n",
      "(array([0., 1.], dtype=float32), array([2400, 1600]))\n",
      "5\n",
      "(14258, 4)\n",
      "(0.5000022, 0.59999335)\n",
      "(array([0., 1.], dtype=float32), array([12007,  2251]))\n",
      "(24000, 4)\n",
      "(array([0., 1.], dtype=float32), array([2000, 2000]))\n",
      "6\n",
      "(14752, 4)\n",
      "(0.6000069, 0.6999946)\n",
      "(array([0., 1.], dtype=float32), array([12088,  2664]))\n",
      "(28000, 4)\n",
      "(array([0., 1.], dtype=float32), array([1599, 2401]))\n",
      "7\n",
      "(16498, 4)\n",
      "(0.7000031, 0.7999985)\n",
      "(array([0., 1.], dtype=float32), array([12824,  3674]))\n",
      "(32000, 4)\n",
      "(array([0., 1.], dtype=float32), array([1199, 2801]))\n",
      "8\n",
      "(21586, 4)\n",
      "(0.8000169, 0.89999294)\n",
      "(array([0., 1.], dtype=float32), array([15590,  5996]))\n",
      "(36000, 4)\n",
      "(array([0., 1.], dtype=float32), array([ 799, 3201]))\n",
      "9\n",
      "(40550, 4)\n",
      "(0.900002, 0.9999206)\n",
      "(array([0., 1.], dtype=float32), array([23303, 17247]))\n",
      "(40000, 4)\n",
      "(array([0., 1.], dtype=float32), array([ 399, 3601]))\n"
     ]
    }
   ],
   "source": [
    "for i in range(10):\n",
    "    print i\n",
    "    df_bin = df_explain.loc[df_explain['bin'] == i]\n",
    "    print(df_bin.shape)\n",
    "    print(np.min(df_bin[name+'_prob']), np.max(df_bin[name+'_prob']))\n",
    "    print(np.unique(df_bin[name],return_counts=True))\n",
    "    df_bin_0 = df_explain.loc[(df_explain['bin'] == i) & (df_explain[name] ==0)]\n",
    "    df_bin_1 = df_explain.loc[(df_explain['bin'] == i) & (df_explain[name] ==1)]\n",
    "    n_0 = int((1 - (0.1 * i) ) * n)\n",
    "    if df_bin_0.shape[0] >= n_0:\n",
    "        df_bin = df_bin_0.sample(n=n_0)\n",
    "    else:\n",
    "        df_bin = df_bin_0\n",
    "        n_0 = df_bin_0.shape[0]\n",
    "    n_1 = n - n_0\n",
    "    if df_bin_1.shape[0] >= n_1:\n",
    "        df_bin = pd.concat([df_bin, df_bin_1.sample(n=n_1)])        \n",
    "    else:\n",
    "        df_bin = pd.concat([df_bin, df_bin_1])    \n",
    "        \n",
    "    if i == 0:\n",
    "        df_bin_all = df_bin\n",
    "    else:\n",
    "        df_bin_all = pd.concat([df_bin, df_bin_all])\n",
    "    print(df_bin_all.shape)\n",
    "    print(np.unique(df_bin[name],return_counts=True))"
   ]
  },
  {
   "cell_type": "code",
   "execution_count": 30,
   "metadata": {},
   "outputs": [
    {
     "name": "stdout",
     "output_type": "stream",
     "text": [
      "(array([0, 1, 2, 3, 4, 5, 6, 7, 8, 9]), array([4000, 4000, 4000, 4000, 4000, 4000, 4000, 4000, 4000, 4000]))\n"
     ]
    }
   ],
   "source": [
    "print(np.unique(df_bin_all['bin'] ,return_counts=True))"
   ]
  },
  {
   "cell_type": "code",
   "execution_count": 31,
   "metadata": {},
   "outputs": [
    {
     "data": {
      "image/png": "[encoded data removed]",
      "text/plain": [
       "<Figure size 432x288 with 1 Axes>"
      ]
     },
     "metadata": {
      "needs_background": "light"
     },
     "output_type": "display_data"
    }
   ],
   "source": [
    "#Reliability Curve\n",
    "from sklearn.calibration import CalibratedClassifierCV, calibration_curve\n",
    "from sklearn.metrics import (brier_score_loss, precision_score, recall_score,\n",
    "                             f1_score)\n",
    "true_label = np.asarray(df_bin_all[name]).astype(int)\n",
    "predicted_prob = np.asarray(df_bin_all[name+'_prob']).astype(float)\n",
    "fraction_of_positives, mean_predicted_value = calibration_curve(true_label, predicted_prob, n_bins=10)\n",
    "clf_score = brier_score_loss(true_label, predicted_prob, pos_label=1)\n",
    "plt.plot(mean_predicted_value, fraction_of_positives, \"s-\",\n",
    "                 label=\"%s (%1.3f)\" % ('Data-after binning', clf_score))\n",
    "plt.plot([0, 1], [0, 1], \"k:\", label=\"Perfectly calibrated\")\n",
    "plt.ylabel('Fraction of positives')\n",
    "plt.ylim([-0.05, 1.05])\n",
    "plt.title('Calibration plots  (reliability curve) for '+name)\n",
    "plt.legend()\n",
    "plt.show()"
   ]
  },
  {
   "cell_type": "markdown",
   "metadata": {},
   "source": [
    "# Save output to be read by the explainer"
   ]
  },
  {
   "cell_type": "code",
   "execution_count": 32,
   "metadata": {},
   "outputs": [
    {
     "name": "stdout",
     "output_type": "stream",
     "text": [
      "('/ocean/projects/asc170022p/singla/ExplainingBBSmoothly/output/classifier/StanfordCheXpert_256/Explainer_MIMIC_Cardiomegaly', 'Cardiomegaly')\n"
     ]
    }
   ],
   "source": [
    "name = name.replace(' ', '_')\n",
    "experiment_dir = os.path.join(main_dir,config['log_dir'], config['name'], 'Explainer_MIMIC_'+name)\n",
    "print(experiment_dir,name)\n",
    "if not os.path.exists(experiment_dir):\n",
    "    os.makedirs(experiment_dir)"
   ]
  },
  {
   "cell_type": "code",
   "execution_count": 33,
   "metadata": {},
   "outputs": [
    {
     "name": "stdout",
     "output_type": "stream",
     "text": [
      "(40000, 2)\n",
      "40000\n",
      "\n",
      "0-0.09 0.1-0.19 0.2-0.29 0.3-0.39 0.4-0.49 0.5-0.59 0.6-0.69 0.7-0.79 0.8-0.89 0.9-0.99\n",
      "\n",
      "/ocean/projects/asc170022p/shared/Data/chestXRayDatasets/MIMICCXR/2.0.0/files/p17/p17096578/s57569940/view3_lateral_HE_512.jpeg 9\n",
      "\n",
      "/ocean/projects/asc170022p/shared/Data/chestXRayDatasets/MIMICCXR/2.0.0/files/p12/p12992793/s53329529/view2_lateral_HE_512.jpeg 9\n",
      "\n",
      "/ocean/projects/asc170022p/shared/Data/chestXRayDatasets/MIMICCXR/2.0.0/files/p15/p15181240/s56046134/view3_lateral_HE_512.jpeg 9\n",
      "\n",
      "/ocean/projects/asc170022p/shared/Data/chestXRayDatasets/MIMICCXR/2.0.0/files/p10/p10388400/s58237613/view2_lateral_HE_512.jpeg 9\n",
      "\n"
     ]
    }
   ],
   "source": [
    "df_temp = df_bin_all[['names', 'bin']]\n",
    "df_temp.to_csv(os.path.join(experiment_dir, 'list_attr_'+name+'.txt'), sep = ' ', index = None, header = None)\n",
    "print(df_temp.shape)\n",
    "one_line = str(df_temp.shape[0]) + '\\n'\n",
    "second_line = \"0-0.09 0.1-0.19 0.2-0.29 0.3-0.39 0.4-0.49 0.5-0.59 0.6-0.69 0.7-0.79 0.8-0.89 0.9-0.99\\n\"\n",
    "with open(os.path.join(experiment_dir, 'list_attr_'+name+'.txt'), 'r+') as fp:\n",
    "    lines = fp.readlines()     # lines is list of line, each element '...\\n'\n",
    "    lines.insert(0, one_line)  # you can use any index if you know the line index\n",
    "    lines.insert(1, second_line)\n",
    "    fp.seek(0)                 # file pointer locates at the beginning to write the whole file again\n",
    "    fp.writelines(lines) \n",
    "fp = open(os.path.join(experiment_dir, 'list_attr_'+name+'.txt'), 'rw')\n",
    "print(fp.readline())\n",
    "print(fp.readline())\n",
    "print(fp.readline())\n",
    "print(fp.readline())\n",
    "print(fp.readline())\n",
    "print(fp.readline())\n",
    "df_bin_all.to_csv(os.path.join(experiment_dir, 'Data_Output_Classifier_'+name+'.csv'), sep = ' ', index = None)\n"
   ]
  },
  {
   "cell_type": "code",
   "execution_count": null,
   "metadata": {},
   "outputs": [],
   "source": []
  }
 ],
 "metadata": {
  "kernelspec": {
   "display_name": "anaconda",
   "language": "python",
   "name": "anaconda"
  },
  "language_info": {
   "codemirror_mode": {
    "name": "ipython",
    "version": 2
   },
   "file_extension": ".py",
   "mimetype": "text/x-python",
   "name": "python",
   "nbconvert_exporter": "python",
   "pygments_lexer": "ipython2",
   "version": "2.7.18"
  }
 },
 "nbformat": 4,
 "nbformat_minor": 4
}
