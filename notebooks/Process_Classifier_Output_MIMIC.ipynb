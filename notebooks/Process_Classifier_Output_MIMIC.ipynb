{
 "cells": [
  {
   "cell_type": "markdown",
   "metadata": {},
   "source": [
    "# Imports"
   ]
  },
  {
   "cell_type": "code",
   "execution_count": 3,
   "metadata": {},
   "outputs": [],
   "source": [
    "import numpy as np\n",
    "import pandas as pd\n",
    "import os\n",
    "import matplotlib.pyplot as plt\n",
    "import sys\n",
    "sys.path.append(\"/ocean/projects/asc170022p/singla/Explanation_XRay/\")\n",
    "import yaml\n",
    "from utils import *\n",
    "from sklearn.metrics import roc_auc_score\n",
    "from sklearn.metrics import accuracy_score\n",
    "from sklearn.metrics import recall_score\n",
    "from sklearn.metrics import confusion_matrix\n",
    "import scipy.misc as scm\n",
    "import warnings\n",
    "warnings.filterwarnings(\"ignore\")\n",
    "warnings.filterwarnings(\"ignore\", category=DeprecationWarning) \n",
    "np.random.seed(0)"
   ]
  },
  {
   "cell_type": "code",
   "execution_count": 4,
   "metadata": {},
   "outputs": [],
   "source": [
    "main_dir = '/ocean/projects/asc170022p/singla/Explanation_XRay'"
   ]
  },
  {
   "cell_type": "markdown",
   "metadata": {},
   "source": [
    "# Get MIMIC dataset"
   ]
  },
  {
   "cell_type": "code",
   "execution_count": 5,
   "metadata": {},
   "outputs": [],
   "source": [
    "df_file_name = '/ocean/projects/asc170022p/singla/Datasets/MIMIC-CXR/PA_AP_views_image_report_labels.csv'"
   ]
  },
  {
   "cell_type": "code",
   "execution_count": 6,
   "metadata": {},
   "outputs": [
    {
     "name": "stdout",
     "output_type": "stream",
     "text": [
      "(215518, 23)\n"
     ]
    }
   ],
   "source": [
    "df_mimic = pd.read_csv(df_file_name)\n",
    "df_mimic = df_mimic.fillna(0)\n",
    "print(df_mimic.shape)"
   ]
  },
  {
   "cell_type": "code",
   "execution_count": 7,
   "metadata": {},
   "outputs": [
    {
     "data": {
      "text/html": [
       "<div>\n",
       "<style scoped>\n",
       "    .dataframe tbody tr th:only-of-type {\n",
       "        vertical-align: middle;\n",
       "    }\n",
       "\n",
       "    .dataframe tbody tr th {\n",
       "        vertical-align: top;\n",
       "    }\n",
       "\n",
       "    .dataframe thead th {\n",
       "        text-align: right;\n",
       "    }\n",
       "</style>\n",
       "<table border=\"1\" class=\"dataframe\">\n",
       "  <thead>\n",
       "    <tr style=\"text-align: right;\">\n",
       "      <th></th>\n",
       "      <th>original_index</th>\n",
       "      <th>Reports</th>\n",
       "      <th>No Finding</th>\n",
       "      <th>Enlarged Cardiomediastinum</th>\n",
       "      <th>Cardiomegaly</th>\n",
       "      <th>Lung Lesion</th>\n",
       "      <th>Lung Opacity</th>\n",
       "      <th>Edema</th>\n",
       "      <th>Consolidation</th>\n",
       "      <th>Pneumonia</th>\n",
       "      <th>...</th>\n",
       "      <th>Pleural Other</th>\n",
       "      <th>Fracture</th>\n",
       "      <th>Support Devices</th>\n",
       "      <th>study_id</th>\n",
       "      <th>subject_id</th>\n",
       "      <th>lateral_512_jpeg</th>\n",
       "      <th>report</th>\n",
       "      <th>ViewPosition</th>\n",
       "      <th>StudyDate</th>\n",
       "      <th>dicom_id</th>\n",
       "    </tr>\n",
       "  </thead>\n",
       "  <tbody>\n",
       "    <tr>\n",
       "      <th>0</th>\n",
       "      <td>0</td>\n",
       "      <td>No acute cardiopulmonary abnormality.</td>\n",
       "      <td>1.0</td>\n",
       "      <td>0.0</td>\n",
       "      <td>0.0</td>\n",
       "      <td>0.0</td>\n",
       "      <td>0.0</td>\n",
       "      <td>0.0</td>\n",
       "      <td>0.0</td>\n",
       "      <td>0.0</td>\n",
       "      <td>...</td>\n",
       "      <td>0.0</td>\n",
       "      <td>0.0</td>\n",
       "      <td>0.0</td>\n",
       "      <td>s53189527</td>\n",
       "      <td>p10000032</td>\n",
       "      <td>/ocean/projects/asc170022p/shared/Data/chestXR...</td>\n",
       "      <td>/ocean/projects/asc170022p/shared/Data/chestXR...</td>\n",
       "      <td>PA</td>\n",
       "      <td>0.0</td>\n",
       "      <td>0.0</td>\n",
       "    </tr>\n",
       "  </tbody>\n",
       "</table>\n",
       "<p>1 rows × 23 columns</p>\n",
       "</div>"
      ],
      "text/plain": [
       "   original_index                                Reports  No Finding  \\\n",
       "0               0  No acute cardiopulmonary abnormality.         1.0   \n",
       "\n",
       "   Enlarged Cardiomediastinum  Cardiomegaly  Lung Lesion  Lung Opacity  Edema  \\\n",
       "0                         0.0           0.0          0.0           0.0    0.0   \n",
       "\n",
       "   Consolidation  Pneumonia  ...  Pleural Other  Fracture  Support Devices  \\\n",
       "0            0.0        0.0  ...            0.0       0.0              0.0   \n",
       "\n",
       "    study_id  subject_id                                   lateral_512_jpeg  \\\n",
       "0  s53189527   p10000032  /ocean/projects/asc170022p/shared/Data/chestXR...   \n",
       "\n",
       "                                              report ViewPosition StudyDate  \\\n",
       "0  /ocean/projects/asc170022p/shared/Data/chestXR...           PA       0.0   \n",
       "\n",
       "  dicom_id  \n",
       "0      0.0  \n",
       "\n",
       "[1 rows x 23 columns]"
      ]
     },
     "execution_count": 7,
     "metadata": {},
     "output_type": "execute_result"
    }
   ],
   "source": [
    "df_mimic.head(1)"
   ]
  },
  {
   "cell_type": "code",
   "execution_count": 8,
   "metadata": {},
   "outputs": [
    {
     "data": {
      "text/plain": [
       "'/ocean/projects/asc170022p/shared/Data/chestXRayDatasets/MIMICCXR/2.0.0/files/p10/p10000032/s53189527/view3_lateral_HE_512.jpeg'"
      ]
     },
     "execution_count": 8,
     "metadata": {},
     "output_type": "execute_result"
    }
   ],
   "source": [
    "df_mimic['lateral_512_jpeg'][0]"
   ]
  },
  {
   "cell_type": "markdown",
   "metadata": {},
   "source": [
    "# Read config"
   ]
  },
  {
   "cell_type": "code",
   "execution_count": 12,
   "metadata": {
    "collapsed": true
   },
   "outputs": [
    {
     "name": "stdout",
     "output_type": "stream",
     "text": [
      "('output_folder_name', 'To_Delete_MIMIC')\n",
      "('partition', 'train')\n",
      "('image_dir', '/ocean/projects/asc170022p/shared/Data/chestXRayDatasets/StanfordCheXpert')\n",
      "('output_csv', '/ocean/projects/asc170022p/singla/Datasets/MIMIC-CXR/PA_AP_views_image_report_labels.csv')\n",
      "('do_center_crop', True)\n",
      "('batch_size', 200)\n",
      "('num_channel', 1)\n",
      "('epochs', 5)\n",
      "('seed', 0)\n",
      "('classifier_type', 'DenseNet')\n",
      "('training_columns_to_repeat', '')\n",
      "('path_column', 'Path')\n",
      "('categories', 'Lung Lesion,Pleural Effusion,Edema,Cardiomegaly,Consolidation,Support Devices,No Finding,Pneumonia,Fracture,Atelectasis,Pneumothorax,Enlarged Cardiomediastinum,Lung Opacity,Pleural Other')\n",
      "('num_class', 14)\n",
      "('name', 'StanfordCheXpert_256_ICLR')\n",
      "('ckpt_dir_continue', 'output/classifier/StanfordCheXpert_256_ICLR')\n",
      "('use_output_csv', True)\n",
      "('output_csv_names_column', 'lateral_512_jpeg')\n",
      "('feature', False)\n",
      "('only_frontal', 1)\n",
      "('train', '/ocean/projects/asc170022p/shared/Data/chestXRayDatasets/StanfordCheXpert/CheXpert-v1.0-small/train.csv')\n",
      "('log_dir', 'output/classifier')\n",
      "('weights_in_batch', 0)\n",
      "('test', '/ocean/projects/asc170022p/shared/Data/chestXRayDatasets/StanfordCheXpert/CheXpert-v1.0-small/valid.csv')\n",
      "('input_size', 256)\n",
      "('names', '')\n"
     ]
    }
   ],
   "source": [
    "config = os.path.join(main_dir, 'configs/StanfordCheXpert_Classifier_256_ICLR.yaml')\n",
    "config = yaml.load(open(config))\n",
    "for k in config.keys():\n",
    "    print(k, config[k])"
   ]
  },
  {
   "cell_type": "code",
   "execution_count": 13,
   "metadata": {},
   "outputs": [
    {
     "data": {
      "text/plain": [
       "['Lung Lesion',\n",
       " 'Pleural Effusion',\n",
       " 'Edema',\n",
       " 'Cardiomegaly',\n",
       " 'Consolidation',\n",
       " 'Support Devices',\n",
       " 'No Finding',\n",
       " 'Pneumonia',\n",
       " 'Fracture',\n",
       " 'Atelectasis',\n",
       " 'Pneumothorax',\n",
       " 'Enlarged Cardiomediastinum',\n",
       " 'Lung Opacity',\n",
       " 'Pleural Other']"
      ]
     },
     "execution_count": 13,
     "metadata": {},
     "output_type": "execute_result"
    }
   ],
   "source": [
    "categories = config['categories']\n",
    "categories = categories.split(',')\n",
    "categories"
   ]
  },
  {
   "cell_type": "code",
   "execution_count": 15,
   "metadata": {},
   "outputs": [
    {
     "name": "stdout",
     "output_type": "stream",
     "text": [
      "/ocean/projects/asc170022p/singla/Explanation_XRay/output/classifier/StanfordCheXpert_256_ICLR/To_Delete_MIMIC\n"
     ]
    }
   ],
   "source": [
    "output_dir = os.path.join(main_dir,config['log_dir'], config['name'], config['output_folder_name'])\n",
    "print(output_dir)"
   ]
  },
  {
   "cell_type": "markdown",
   "metadata": {},
   "source": [
    "# Load saved output from classifier"
   ]
  },
  {
   "cell_type": "code",
   "execution_count": 16,
   "metadata": {},
   "outputs": [
    {
     "name": "stdout",
     "output_type": "stream",
     "text": [
      "((200200,), (200200, 14), (200200, 14))\n"
     ]
    }
   ],
   "source": [
    "# Read classifier output\n",
    "train_or_test = 'train'\n",
    "names = np.load(os.path.join(output_dir, 'name_train.npy'),allow_pickle=True)\n",
    "prediction_y = np.load(os.path.join(output_dir, 'prediction_y_train.npy'))\n",
    "true_y = np.load(os.path.join(output_dir, 'true_y_train.npy'))\n",
    "print(names.shape, prediction_y.shape, true_y.shape)"
   ]
  },
  {
   "cell_type": "code",
   "execution_count": 17,
   "metadata": {},
   "outputs": [],
   "source": [
    "true_y[true_y==-1]=1"
   ]
  },
  {
   "cell_type": "markdown",
   "metadata": {},
   "source": [
    "## Create a dataframe"
   ]
  },
  {
   "cell_type": "code",
   "execution_count": 18,
   "metadata": {
    "collapsed": true
   },
   "outputs": [
    {
     "name": "stdout",
     "output_type": "stream",
     "text": [
      "(200200, 29)\n"
     ]
    },
    {
     "data": {
      "text/html": [
       "<div>\n",
       "<style scoped>\n",
       "    .dataframe tbody tr th:only-of-type {\n",
       "        vertical-align: middle;\n",
       "    }\n",
       "\n",
       "    .dataframe tbody tr th {\n",
       "        vertical-align: top;\n",
       "    }\n",
       "\n",
       "    .dataframe thead th {\n",
       "        text-align: right;\n",
       "    }\n",
       "</style>\n",
       "<table border=\"1\" class=\"dataframe\">\n",
       "  <thead>\n",
       "    <tr style=\"text-align: right;\">\n",
       "      <th></th>\n",
       "      <th>names</th>\n",
       "      <th>Lung Lesion_label</th>\n",
       "      <th>Lung Lesion_prob</th>\n",
       "      <th>Pleural Effusion_label</th>\n",
       "      <th>Pleural Effusion_prob</th>\n",
       "      <th>Edema_label</th>\n",
       "      <th>Edema_prob</th>\n",
       "      <th>Cardiomegaly_label</th>\n",
       "      <th>Cardiomegaly_prob</th>\n",
       "      <th>Consolidation_label</th>\n",
       "      <th>...</th>\n",
       "      <th>Atelectasis_label</th>\n",
       "      <th>Atelectasis_prob</th>\n",
       "      <th>Pneumothorax_label</th>\n",
       "      <th>Pneumothorax_prob</th>\n",
       "      <th>Enlarged Cardiomediastinum_label</th>\n",
       "      <th>Enlarged Cardiomediastinum_prob</th>\n",
       "      <th>Lung Opacity_label</th>\n",
       "      <th>Lung Opacity_prob</th>\n",
       "      <th>Pleural Other_label</th>\n",
       "      <th>Pleural Other_prob</th>\n",
       "    </tr>\n",
       "  </thead>\n",
       "  <tbody>\n",
       "    <tr>\n",
       "      <th>0</th>\n",
       "      <td>/ocean/projects/asc170022p/shared/Data/chestXR...</td>\n",
       "      <td>0.0</td>\n",
       "      <td>0.341385</td>\n",
       "      <td>0.0</td>\n",
       "      <td>0.228079</td>\n",
       "      <td>0.0</td>\n",
       "      <td>0.023932</td>\n",
       "      <td>0.0</td>\n",
       "      <td>0.050886</td>\n",
       "      <td>0.0</td>\n",
       "      <td>...</td>\n",
       "      <td>0.0</td>\n",
       "      <td>0.150798</td>\n",
       "      <td>0.0</td>\n",
       "      <td>0.023863</td>\n",
       "      <td>0.0</td>\n",
       "      <td>0.176438</td>\n",
       "      <td>0.0</td>\n",
       "      <td>0.338982</td>\n",
       "      <td>0.0</td>\n",
       "      <td>0.212671</td>\n",
       "    </tr>\n",
       "    <tr>\n",
       "      <th>1</th>\n",
       "      <td>/ocean/projects/asc170022p/shared/Data/chestXR...</td>\n",
       "      <td>0.0</td>\n",
       "      <td>0.427898</td>\n",
       "      <td>0.0</td>\n",
       "      <td>0.073220</td>\n",
       "      <td>0.0</td>\n",
       "      <td>0.067508</td>\n",
       "      <td>0.0</td>\n",
       "      <td>0.060497</td>\n",
       "      <td>0.0</td>\n",
       "      <td>...</td>\n",
       "      <td>0.0</td>\n",
       "      <td>0.170197</td>\n",
       "      <td>0.0</td>\n",
       "      <td>0.018150</td>\n",
       "      <td>0.0</td>\n",
       "      <td>0.086128</td>\n",
       "      <td>0.0</td>\n",
       "      <td>0.457597</td>\n",
       "      <td>0.0</td>\n",
       "      <td>0.030984</td>\n",
       "    </tr>\n",
       "  </tbody>\n",
       "</table>\n",
       "<p>2 rows × 29 columns</p>\n",
       "</div>"
      ],
      "text/plain": [
       "                                               names  Lung Lesion_label  \\\n",
       "0  /ocean/projects/asc170022p/shared/Data/chestXR...                0.0   \n",
       "1  /ocean/projects/asc170022p/shared/Data/chestXR...                0.0   \n",
       "\n",
       "   Lung Lesion_prob  Pleural Effusion_label  Pleural Effusion_prob  \\\n",
       "0          0.341385                     0.0               0.228079   \n",
       "1          0.427898                     0.0               0.073220   \n",
       "\n",
       "   Edema_label  Edema_prob  Cardiomegaly_label  Cardiomegaly_prob  \\\n",
       "0          0.0    0.023932                 0.0           0.050886   \n",
       "1          0.0    0.067508                 0.0           0.060497   \n",
       "\n",
       "   Consolidation_label  ...  Atelectasis_label  Atelectasis_prob  \\\n",
       "0                  0.0  ...                0.0          0.150798   \n",
       "1                  0.0  ...                0.0          0.170197   \n",
       "\n",
       "   Pneumothorax_label  Pneumothorax_prob  Enlarged Cardiomediastinum_label  \\\n",
       "0                 0.0           0.023863                               0.0   \n",
       "1                 0.0           0.018150                               0.0   \n",
       "\n",
       "   Enlarged Cardiomediastinum_prob  Lung Opacity_label  Lung Opacity_prob  \\\n",
       "0                         0.176438                 0.0           0.338982   \n",
       "1                         0.086128                 0.0           0.457597   \n",
       "\n",
       "   Pleural Other_label  Pleural Other_prob  \n",
       "0                  0.0            0.212671  \n",
       "1                  0.0            0.030984  \n",
       "\n",
       "[2 rows x 29 columns]"
      ]
     },
     "execution_count": 18,
     "metadata": {},
     "output_type": "execute_result"
    }
   ],
   "source": [
    "df_output = pd.DataFrame()\n",
    "df_output['names'] = names\n",
    "for i in range(len(categories)):\n",
    "    df_output[categories[i] + '_label'] = true_y[:,i]\n",
    "    df_output[categories[i] + '_prob'] = prediction_y[:,i]\n",
    "print(df_output.shape)\n",
    "df_output.head(2)"
   ]
  },
  {
   "cell_type": "code",
   "execution_count": 19,
   "metadata": {
    "collapsed": true
   },
   "outputs": [
    {
     "name": "stdout",
     "output_type": "stream",
     "text": [
      "Lung Lesion\n",
      "(array([0., 1.], dtype=float32), array([193146,   7054]))\n",
      "Pleural Effusion\n",
      "(array([0., 1.], dtype=float32), array([146772,  53428]))\n",
      "Edema\n",
      "(array([0., 1.], dtype=float32), array([164196,  36004]))\n",
      "Cardiomegaly\n",
      "(array([0., 1.], dtype=float32), array([158420,  41780]))\n",
      "Consolidation\n",
      "(array([0., 1.], dtype=float32), array([186986,  13214]))\n",
      "Support Devices\n",
      "(array([0., 1.], dtype=float32), array([140725,  59475]))\n",
      "No Finding\n",
      "(array([0., 1.], dtype=float32), array([132643,  67557]))\n",
      "Pneumonia\n",
      "(array([0., 1.], dtype=float32), array([169626,  30574]))\n",
      "Fracture\n",
      "(array([0., 1.], dtype=float32), array([195830,   4370]))\n",
      "Atelectasis\n",
      "(array([0., 1.], dtype=float32), array([150580,  49620]))\n",
      "Pneumothorax\n",
      "(array([0., 1.], dtype=float32), array([189914,  10286]))\n",
      "Enlarged Cardiomediastinum\n",
      "(array([0., 1.], dtype=float32), array([191024,   9176]))\n",
      "Lung Opacity\n",
      "(array([0., 1.], dtype=float32), array([151686,  48514]))\n",
      "Pleural Other\n",
      "(array([0., 1.], dtype=float32), array([197827,   2373]))\n"
     ]
    }
   ],
   "source": [
    "for c in categories:\n",
    "    print(c)\n",
    "    print(np.unique(df_output[c + '_label'], return_counts=True))"
   ]
  },
  {
   "cell_type": "markdown",
   "metadata": {},
   "source": [
    "## View results from classifier"
   ]
  },
  {
   "cell_type": "code",
   "execution_count": 21,
   "metadata": {
    "code_folding": [
     0
    ],
    "collapsed": true
   },
   "outputs": [
    {
     "name": "stdout",
     "output_type": "stream",
     "text": [
      "('Pleural Effusion', 1)\n",
      "('ROC-AUC: ', 0.8681183984132523)\n",
      "('Accuracy: ', 0.7836163836163836)\n",
      "('Recall: ', 0.8115407651418731)\n",
      "('Stats: ', (array([0., 1.], dtype=float32), array([146772,  53428])), 43359)\n",
      "[[113521  33251]\n",
      " [ 10069  43359]]\n",
      "('Edema', 2)\n",
      "('ROC-AUC: ', 0.8438758504983555)\n",
      "('Accuracy: ', 0.7781418581418581)\n",
      "('Recall: ', 0.7349183424063993)\n",
      "('Stats: ', (array([0., 1.], dtype=float32), array([164196,  36004])), 26460)\n",
      "[[129324  34872]\n",
      " [  9544  26460]]\n",
      "('Cardiomegaly', 3)\n",
      "('ROC-AUC: ', 0.7519988255099771)\n",
      "('Accuracy: ', 0.6427972027972028)\n",
      "('Recall: ', 0.7607228338918143)\n",
      "('Stats: ', (array([0., 1.], dtype=float32), array([158420,  41780])), 31783)\n",
      "[[96905 61515]\n",
      " [ 9997 31783]]\n"
     ]
    }
   ],
   "source": [
    "for i in [1,2,3]:\n",
    "    print(categories[i], i)\n",
    "    print(\"ROC-AUC: \", roc_auc_score(true_y[:,i], prediction_y[:,i]))\n",
    "    print(\"Accuracy: \", accuracy_score(true_y[:,i], (prediction_y[:,i]>0.5).astype(int)))\n",
    "    print(\"Recall: \", recall_score(true_y[:,i], (prediction_y[:,i]>0.5).astype(int)))\n",
    "    tp = np.sum((prediction_y[true_y[:,i] == 1,i]>0.5).astype(int))\n",
    "    print(\"Stats: \", np.unique(true_y[:,i], return_counts=True), tp)\n",
    "    print(confusion_matrix(true_y[:,i],  (prediction_y[:,i]>0.5).astype(int)))"
   ]
  },
  {
   "cell_type": "markdown",
   "metadata": {},
   "source": [
    "# Merge the two datasets"
   ]
  },
  {
   "cell_type": "code",
   "execution_count": 23,
   "metadata": {},
   "outputs": [
    {
     "name": "stdout",
     "output_type": "stream",
     "text": [
      "(200200, 52)\n"
     ]
    },
    {
     "data": {
      "text/html": [
       "<div>\n",
       "<style scoped>\n",
       "    .dataframe tbody tr th:only-of-type {\n",
       "        vertical-align: middle;\n",
       "    }\n",
       "\n",
       "    .dataframe tbody tr th {\n",
       "        vertical-align: top;\n",
       "    }\n",
       "\n",
       "    .dataframe thead th {\n",
       "        text-align: right;\n",
       "    }\n",
       "</style>\n",
       "<table border=\"1\" class=\"dataframe\">\n",
       "  <thead>\n",
       "    <tr style=\"text-align: right;\">\n",
       "      <th></th>\n",
       "      <th>original_index</th>\n",
       "      <th>Reports</th>\n",
       "      <th>No Finding</th>\n",
       "      <th>Enlarged Cardiomediastinum</th>\n",
       "      <th>Cardiomegaly</th>\n",
       "      <th>Lung Lesion</th>\n",
       "      <th>Lung Opacity</th>\n",
       "      <th>Edema</th>\n",
       "      <th>Consolidation</th>\n",
       "      <th>Pneumonia</th>\n",
       "      <th>...</th>\n",
       "      <th>Atelectasis_label</th>\n",
       "      <th>Atelectasis_prob</th>\n",
       "      <th>Pneumothorax_label</th>\n",
       "      <th>Pneumothorax_prob</th>\n",
       "      <th>Enlarged Cardiomediastinum_label</th>\n",
       "      <th>Enlarged Cardiomediastinum_prob</th>\n",
       "      <th>Lung Opacity_label</th>\n",
       "      <th>Lung Opacity_prob</th>\n",
       "      <th>Pleural Other_label</th>\n",
       "      <th>Pleural Other_prob</th>\n",
       "    </tr>\n",
       "  </thead>\n",
       "  <tbody>\n",
       "    <tr>\n",
       "      <th>0</th>\n",
       "      <td>0</td>\n",
       "      <td>No acute cardiopulmonary abnormality.</td>\n",
       "      <td>1.0</td>\n",
       "      <td>0.0</td>\n",
       "      <td>0.0</td>\n",
       "      <td>0.0</td>\n",
       "      <td>0.0</td>\n",
       "      <td>0.0</td>\n",
       "      <td>0.0</td>\n",
       "      <td>0.0</td>\n",
       "      <td>...</td>\n",
       "      <td>0.0</td>\n",
       "      <td>0.150798</td>\n",
       "      <td>0.0</td>\n",
       "      <td>0.023863</td>\n",
       "      <td>0.0</td>\n",
       "      <td>0.176438</td>\n",
       "      <td>0.0</td>\n",
       "      <td>0.338982</td>\n",
       "      <td>0.0</td>\n",
       "      <td>0.212671</td>\n",
       "    </tr>\n",
       "    <tr>\n",
       "      <th>1</th>\n",
       "      <td>1</td>\n",
       "      <td>No acute cardiopulmonary process.</td>\n",
       "      <td>1.0</td>\n",
       "      <td>0.0</td>\n",
       "      <td>0.0</td>\n",
       "      <td>0.0</td>\n",
       "      <td>0.0</td>\n",
       "      <td>0.0</td>\n",
       "      <td>0.0</td>\n",
       "      <td>0.0</td>\n",
       "      <td>...</td>\n",
       "      <td>0.0</td>\n",
       "      <td>0.170197</td>\n",
       "      <td>0.0</td>\n",
       "      <td>0.018150</td>\n",
       "      <td>0.0</td>\n",
       "      <td>0.086128</td>\n",
       "      <td>0.0</td>\n",
       "      <td>0.457597</td>\n",
       "      <td>0.0</td>\n",
       "      <td>0.030984</td>\n",
       "    </tr>\n",
       "  </tbody>\n",
       "</table>\n",
       "<p>2 rows × 52 columns</p>\n",
       "</div>"
      ],
      "text/plain": [
       "   original_index                                Reports  No Finding  \\\n",
       "0               0  No acute cardiopulmonary abnormality.         1.0   \n",
       "1               1      No acute cardiopulmonary process.         1.0   \n",
       "\n",
       "   Enlarged Cardiomediastinum  Cardiomegaly  Lung Lesion  Lung Opacity  Edema  \\\n",
       "0                         0.0           0.0          0.0           0.0    0.0   \n",
       "1                         0.0           0.0          0.0           0.0    0.0   \n",
       "\n",
       "   Consolidation  Pneumonia  ...  Atelectasis_label  Atelectasis_prob  \\\n",
       "0            0.0        0.0  ...                0.0          0.150798   \n",
       "1            0.0        0.0  ...                0.0          0.170197   \n",
       "\n",
       "   Pneumothorax_label  Pneumothorax_prob  Enlarged Cardiomediastinum_label  \\\n",
       "0                 0.0           0.023863                               0.0   \n",
       "1                 0.0           0.018150                               0.0   \n",
       "\n",
       "   Enlarged Cardiomediastinum_prob Lung Opacity_label Lung Opacity_prob  \\\n",
       "0                         0.176438                0.0          0.338982   \n",
       "1                         0.086128                0.0          0.457597   \n",
       "\n",
       "  Pleural Other_label Pleural Other_prob  \n",
       "0                 0.0           0.212671  \n",
       "1                 0.0           0.030984  \n",
       "\n",
       "[2 rows x 52 columns]"
      ]
     },
     "execution_count": 23,
     "metadata": {},
     "output_type": "execute_result"
    }
   ],
   "source": [
    "df_merged = pd.merge(df_mimic,df_output,left_on='lateral_512_jpeg',right_on='names', how='right')\n",
    "print(df_merged.shape)\n",
    "df_merged = df_merged.fillna(0)\n",
    "df_merged.head(2)"
   ]
  },
  {
   "cell_type": "markdown",
   "metadata": {},
   "source": [
    "## Only pacemaker"
   ]
  },
  {
   "cell_type": "code",
   "execution_count": 137,
   "metadata": {},
   "outputs": [
    {
     "data": {
      "text/plain": [
       "((1496, 359), (5938, 359), (209286, 359))"
      ]
     },
     "execution_count": 137,
     "metadata": {},
     "output_type": "execute_result"
    }
   ],
   "source": [
    "df_pace_i = df_merged.loc[df_merged['pacemaker_y'] == 1]\n",
    "df_pace_f = df_merged.loc[df_merged['pacemaker_x'] == 1]\n",
    "df_pace_no_f = df_merged.loc[df_merged['pacemaker_x'] == 0]\n",
    "df_pace_i.shape, df_pace_f.shape, df_pace_no_f.shape"
   ]
  },
  {
   "cell_type": "code",
   "execution_count": 139,
   "metadata": {},
   "outputs": [],
   "source": [
    "all_pacemaker = np.asarray(df_pace_f['lateral'])\n",
    "np.save(os.path.join(experiment_dir, 'all_pacemaker.npy'), all_pacemaker)"
   ]
  },
  {
   "cell_type": "code",
   "execution_count": 123,
   "metadata": {},
   "outputs": [
    {
     "name": "stdout",
     "output_type": "stream",
     "text": [
      "(4446,)\n"
     ]
    },
    {
     "data": {
      "text/plain": [
       "array(['/pghbio/dbmi/batmanlab/singla/Image_Text_Project/MIMICCX/Data/512/18667287/56239467/view3_lateral_HE.jpeg',\n",
       "       '/pghbio/dbmi/batmanlab/singla/Image_Text_Project/MIMICCX/Data/512/11438173/50280956/view2_lateral_HE.jpeg'],\n",
       "      dtype='|S105')"
      ]
     },
     "execution_count": 123,
     "metadata": {},
     "output_type": "execute_result"
    }
   ],
   "source": [
    "a = np.asarray(list(set(np.asarray(df_pace_f['lateral']))  - set(np.asarray(df_pace_i['lateral']))))  \n",
    "print(a.shape)\n",
    "a[0:2]"
   ]
  },
  {
   "cell_type": "code",
   "execution_count": 124,
   "metadata": {},
   "outputs": [],
   "source": [
    "df_no_pace = df_pace_no_f.sample(n=2000)"
   ]
  },
  {
   "cell_type": "code",
   "execution_count": 125,
   "metadata": {},
   "outputs": [
    {
     "data": {
      "text/plain": [
       "(2000, 359)"
      ]
     },
     "execution_count": 125,
     "metadata": {},
     "output_type": "execute_result"
    }
   ],
   "source": [
    "df_no_pace.shape"
   ]
  },
  {
   "cell_type": "code",
   "execution_count": 126,
   "metadata": {
    "collapsed": true
   },
   "outputs": [
    {
     "name": "stdout",
     "output_type": "stream",
     "text": [
      "(2000,)\n"
     ]
    },
    {
     "data": {
      "text/plain": [
       "array(['/pghbio/dbmi/batmanlab/singla/Image_Text_Project/MIMICCX/Data/512/19034797/55258617/view2_lateral_HE.jpeg',\n",
       "       '/pghbio/dbmi/batmanlab/singla/Image_Text_Project/MIMICCX/Data/512/14666079/56613804/view2_lateral_HE.jpeg'],\n",
       "      dtype=object)"
      ]
     },
     "execution_count": 126,
     "metadata": {},
     "output_type": "execute_result"
    }
   ],
   "source": [
    "name_no_pace= np.asarray(df_no_pace['names'])\n",
    "print(name_no_pace.shape)\n",
    "name_no_pace[0:2]"
   ]
  },
  {
   "cell_type": "code",
   "execution_count": 127,
   "metadata": {
    "collapsed": true
   },
   "outputs": [
    {
     "name": "stdout",
     "output_type": "stream",
     "text": [
      "(1496,)\n"
     ]
    },
    {
     "data": {
      "text/plain": [
       "array(['/pghbio/dbmi/batmanlab/singla/Image_Text_Project/MIMICCX/Data/512/10001884/50376803/view2_lateral_HE.jpeg',\n",
       "       '/pghbio/dbmi/batmanlab/singla/Image_Text_Project/MIMICCX/Data/512/10013569/52553082/view2_lateral_HE.jpeg',\n",
       "       '/pghbio/dbmi/batmanlab/singla/Image_Text_Project/MIMICCX/Data/512/10013643/52222477/view2_lateral_HE.jpeg'],\n",
       "      dtype=object)"
      ]
     },
     "execution_count": 127,
     "metadata": {},
     "output_type": "execute_result"
    }
   ],
   "source": [
    "name_pace = np.asarray(df_pace_i['names'])\n",
    "print(name_pace.shape)\n",
    "name_pace[0:3]"
   ]
  },
  {
   "cell_type": "code",
   "execution_count": 129,
   "metadata": {},
   "outputs": [],
   "source": [
    "aa = np.random.choice(a,500)"
   ]
  },
  {
   "cell_type": "code",
   "execution_count": 131,
   "metadata": {},
   "outputs": [
    {
     "name": "stdout",
     "output_type": "stream",
     "text": [
      "(500,)\n"
     ]
    },
    {
     "data": {
      "text/plain": [
       "array(['/pghbio/dbmi/batmanlab/singla/Image_Text_Project/MIMICCX/Data/512/16205152/57391484/view3_lateral_HE.jpeg',\n",
       "       '/pghbio/dbmi/batmanlab/singla/Image_Text_Project/MIMICCX/Data/512/15211758/50893415/view3_lateral_HE.jpeg',\n",
       "       '/pghbio/dbmi/batmanlab/singla/Image_Text_Project/MIMICCX/Data/512/19747096/56762751/view2_lateral_HE.jpeg'],\n",
       "      dtype='|S105')"
      ]
     },
     "execution_count": 131,
     "metadata": {},
     "output_type": "execute_result"
    }
   ],
   "source": [
    "print(aa.shape)\n",
    "aa[0:3]"
   ]
  },
  {
   "cell_type": "code",
   "execution_count": 132,
   "metadata": {},
   "outputs": [
    {
     "data": {
      "text/plain": [
       "(1996,)"
      ]
     },
     "execution_count": 132,
     "metadata": {},
     "output_type": "execute_result"
    }
   ],
   "source": [
    "name_pace = np.append(name_pace, aa)\n",
    "name_pace.shape"
   ]
  },
  {
   "cell_type": "code",
   "execution_count": 133,
   "metadata": {},
   "outputs": [
    {
     "name": "stdout",
     "output_type": "stream",
     "text": [
      "((3996,), (3996,))\n",
      "['/pghbio/dbmi/batmanlab/singla/Image_Text_Project/MIMICCX/Data/512/10001884/50376803/view2_lateral_HE.jpeg'\n",
      " '/pghbio/dbmi/batmanlab/singla/Image_Text_Project/MIMICCX/Data/512/10013569/52553082/view2_lateral_HE.jpeg'\n",
      " '/pghbio/dbmi/batmanlab/singla/Image_Text_Project/MIMICCX/Data/512/10013643/52222477/view2_lateral_HE.jpeg']\n"
     ]
    }
   ],
   "source": [
    "one = np.ones(name_pace.shape)\n",
    "zero = np.zeros(name_no_pace.shape)\n",
    "label_pace = np.append(one, zero)\n",
    "name_all = np.append(name_pace, name_no_pace)\n",
    "print(label_pace.shape, name_all.shape)\n",
    "print(name_all[0:3])"
   ]
  },
  {
   "cell_type": "code",
   "execution_count": 134,
   "metadata": {},
   "outputs": [
    {
     "name": "stdout",
     "output_type": "stream",
     "text": [
      "(3996, 2)\n"
     ]
    },
    {
     "data": {
      "text/html": [
       "<div>\n",
       "<style scoped>\n",
       "    .dataframe tbody tr th:only-of-type {\n",
       "        vertical-align: middle;\n",
       "    }\n",
       "\n",
       "    .dataframe tbody tr th {\n",
       "        vertical-align: top;\n",
       "    }\n",
       "\n",
       "    .dataframe thead th {\n",
       "        text-align: right;\n",
       "    }\n",
       "</style>\n",
       "<table border=\"1\" class=\"dataframe\">\n",
       "  <thead>\n",
       "    <tr style=\"text-align: right;\">\n",
       "      <th></th>\n",
       "      <th>names</th>\n",
       "      <th>label</th>\n",
       "    </tr>\n",
       "  </thead>\n",
       "  <tbody>\n",
       "    <tr>\n",
       "      <th>0</th>\n",
       "      <td>/pghbio/dbmi/batmanlab/singla/Image_Text_Proje...</td>\n",
       "      <td>1.0</td>\n",
       "    </tr>\n",
       "    <tr>\n",
       "      <th>1</th>\n",
       "      <td>/pghbio/dbmi/batmanlab/singla/Image_Text_Proje...</td>\n",
       "      <td>1.0</td>\n",
       "    </tr>\n",
       "  </tbody>\n",
       "</table>\n",
       "</div>"
      ],
      "text/plain": [
       "                                               names  label\n",
       "0  /pghbio/dbmi/batmanlab/singla/Image_Text_Proje...    1.0\n",
       "1  /pghbio/dbmi/batmanlab/singla/Image_Text_Proje...    1.0"
      ]
     },
     "execution_count": 134,
     "metadata": {},
     "output_type": "execute_result"
    }
   ],
   "source": [
    "df_pace = pd.DataFrame()\n",
    "df_pace['names'] = name_all\n",
    "df_pace['label'] = label_pace\n",
    "print(df_pace.shape)\n",
    "df_pace.head(2)"
   ]
  },
  {
   "cell_type": "code",
   "execution_count": 135,
   "metadata": {},
   "outputs": [
    {
     "data": {
      "text/plain": [
       "'/pghbio/dbmi/batmanlab/singla/Explanation_XRay/output/classifier/StanfordCheXpert_256_ICLR/explainer_MIMIC'"
      ]
     },
     "execution_count": 135,
     "metadata": {},
     "output_type": "execute_result"
    }
   ],
   "source": [
    "experiment_dir"
   ]
  },
  {
   "cell_type": "code",
   "execution_count": 136,
   "metadata": {},
   "outputs": [
    {
     "name": "stdout",
     "output_type": "stream",
     "text": [
      "(3996, 2)\n",
      "3996\n",
      "\n",
      "pacemaker\n",
      "\n",
      "/pghbio/dbmi/batmanlab/singla/Image_Text_Project/MIMICCX/Data/512/10001884/50376803/view2_lateral_HE.jpeg 1.0\n",
      "\n",
      "/pghbio/dbmi/batmanlab/singla/Image_Text_Project/MIMICCX/Data/512/10013569/52553082/view2_lateral_HE.jpeg 1.0\n",
      "\n",
      "/pghbio/dbmi/batmanlab/singla/Image_Text_Project/MIMICCX/Data/512/10013643/52222477/view2_lateral_HE.jpeg 1.0\n",
      "\n",
      "/pghbio/dbmi/batmanlab/singla/Image_Text_Project/MIMICCX/Data/512/10013643/52512677/view2_lateral_HE.jpeg 1.0\n",
      "\n"
     ]
    }
   ],
   "source": [
    "df_temp = df_pace\n",
    "df_temp.to_csv(os.path.join(experiment_dir, 'list_attr_pacemaker.txt'), sep = ' ', index = None, header = None)\n",
    "print(df_temp.shape)\n",
    "one_line = str(df_temp.shape[0]) + '\\n'\n",
    "second_line = \"pacemaker\\n\"\n",
    "with open(os.path.join(experiment_dir, 'list_attr_pacemaker.txt'), 'r+') as fp:\n",
    "    lines = fp.readlines()     # lines is list of line, each element '...\\n'\n",
    "    lines.insert(0, one_line)  # you can use any index if you know the line index\n",
    "    lines.insert(1, second_line)\n",
    "    fp.seek(0)                 # file pointer locates at the beginning to write the whole file again\n",
    "    fp.writelines(lines) \n",
    "fp = open(os.path.join(experiment_dir, 'list_attr_pacemaker.txt'), 'rw')\n",
    "print(fp.readline())\n",
    "print(fp.readline())\n",
    "print(fp.readline())\n",
    "print(fp.readline())\n",
    "print(fp.readline())\n",
    "print(fp.readline())\n",
    "df_bin_all.to_csv(os.path.join(experiment_dir, 'extra','Data_Output_Classifier_'+'pacemaker'+'.csv'), sep = ' ', index = None)"
   ]
  },
  {
   "cell_type": "code",
   "execution_count": null,
   "metadata": {},
   "outputs": [],
   "source": []
  },
  {
   "cell_type": "code",
   "execution_count": null,
   "metadata": {},
   "outputs": [],
   "source": []
  },
  {
   "cell_type": "markdown",
   "metadata": {},
   "source": [
    "## Choose a traget class to build explanation"
   ]
  },
  {
   "cell_type": "code",
   "execution_count": 19,
   "metadata": {},
   "outputs": [
    {
     "name": "stdout",
     "output_type": "stream",
     "text": [
      "Cardiomegaly\n"
     ]
    }
   ],
   "source": [
    "current_index = 3\n",
    "name = categories[current_index]\n",
    "print(name)\n",
    "current_index_prob = current_index"
   ]
  },
  {
   "cell_type": "code",
   "execution_count": 20,
   "metadata": {},
   "outputs": [
    {
     "name": "stdout",
     "output_type": "stream",
     "text": [
      "(array([-1.,  0.,  1.]), array([   256, 209286,   5938]))\n",
      "(array([0., 1.]), array([209286,   6194]))\n"
     ]
    }
   ],
   "source": [
    "extra_keyword ='pacemaker_x'\n",
    "print(np.unique(df_merged[extra_keyword], return_counts=True))\n",
    "df_merged[extra_keyword] = df_merged[extra_keyword].apply(lambda x: 1 if x == -1 else x)\n",
    "print(np.unique(df_merged[extra_keyword], return_counts=True))"
   ]
  },
  {
   "cell_type": "markdown",
   "metadata": {},
   "source": [
    "## Create a dataframe from results"
   ]
  },
  {
   "cell_type": "code",
   "execution_count": 21,
   "metadata": {},
   "outputs": [
    {
     "name": "stdout",
     "output_type": "stream",
     "text": [
      "(215480, 6)\n"
     ]
    },
    {
     "data": {
      "text/html": [
       "<div>\n",
       "<style scoped>\n",
       "    .dataframe tbody tr th:only-of-type {\n",
       "        vertical-align: middle;\n",
       "    }\n",
       "\n",
       "    .dataframe tbody tr th {\n",
       "        vertical-align: top;\n",
       "    }\n",
       "\n",
       "    .dataframe thead th {\n",
       "        text-align: right;\n",
       "    }\n",
       "</style>\n",
       "<table border=\"1\" class=\"dataframe\">\n",
       "  <thead>\n",
       "    <tr style=\"text-align: right;\">\n",
       "      <th></th>\n",
       "      <th>names</th>\n",
       "      <th>Cardiomegaly_prob</th>\n",
       "      <th>Cardiomegaly_label_full</th>\n",
       "      <th>Cardiomegaly_label_imp</th>\n",
       "      <th>pacemaker_x</th>\n",
       "      <th>bin</th>\n",
       "    </tr>\n",
       "  </thead>\n",
       "  <tbody>\n",
       "    <tr>\n",
       "      <th>0</th>\n",
       "      <td>/pghbio/dbmi/batmanlab/singla/Image_Text_Proje...</td>\n",
       "      <td>0.358708</td>\n",
       "      <td>0.0</td>\n",
       "      <td>0.0</td>\n",
       "      <td>0.0</td>\n",
       "      <td>1</td>\n",
       "    </tr>\n",
       "    <tr>\n",
       "      <th>1</th>\n",
       "      <td>/pghbio/dbmi/batmanlab/singla/Image_Text_Proje...</td>\n",
       "      <td>0.079592</td>\n",
       "      <td>0.0</td>\n",
       "      <td>0.0</td>\n",
       "      <td>0.0</td>\n",
       "      <td>0</td>\n",
       "    </tr>\n",
       "    <tr>\n",
       "      <th>2</th>\n",
       "      <td>/pghbio/dbmi/batmanlab/singla/Image_Text_Proje...</td>\n",
       "      <td>0.430650</td>\n",
       "      <td>0.0</td>\n",
       "      <td>0.0</td>\n",
       "      <td>0.0</td>\n",
       "      <td>2</td>\n",
       "    </tr>\n",
       "  </tbody>\n",
       "</table>\n",
       "</div>"
      ],
      "text/plain": [
       "                                               names  Cardiomegaly_prob  \\\n",
       "0  /pghbio/dbmi/batmanlab/singla/Image_Text_Proje...           0.358708   \n",
       "1  /pghbio/dbmi/batmanlab/singla/Image_Text_Proje...           0.079592   \n",
       "2  /pghbio/dbmi/batmanlab/singla/Image_Text_Proje...           0.430650   \n",
       "\n",
       "   Cardiomegaly_label_full  Cardiomegaly_label_imp  pacemaker_x  bin  \n",
       "0                      0.0                     0.0          0.0    1  \n",
       "1                      0.0                     0.0          0.0    0  \n",
       "2                      0.0                     0.0          0.0    2  "
      ]
     },
     "execution_count": 21,
     "metadata": {},
     "output_type": "execute_result"
    }
   ],
   "source": [
    "df_explain = df_merged[['names', name+'_prob',name+'_label_full', name+'_label_imp', extra_keyword]]\n",
    "df_explain['bin'] = np.floor(df_explain[name+'_prob'].astype('float') * 10).astype('int')\n",
    "df_explain['bin'] = (df_explain['bin']* 0.5).astype('int')\n",
    "df_explain = df_explain.drop_duplicates()\n",
    "print(df_explain.shape)\n",
    "df_explain.head(3)"
   ]
  },
  {
   "cell_type": "markdown",
   "metadata": {
    "heading_collapsed": true
   },
   "source": [
    "## Plot reliability curve"
   ]
  },
  {
   "cell_type": "code",
   "execution_count": 64,
   "metadata": {
    "hidden": true
   },
   "outputs": [
    {
     "data": {
      "image/png": "[encoded data removed]",
      "text/plain": [
       "<Figure size 432x288 with 1 Axes>"
      ]
     },
     "metadata": {
      "needs_background": "light"
     },
     "output_type": "display_data"
    }
   ],
   "source": [
    "#Reliability Curve\n",
    "from sklearn.calibration import CalibratedClassifierCV, calibration_curve\n",
    "from sklearn.metrics import (brier_score_loss, precision_score, recall_score,\n",
    "                             f1_score)\n",
    "true_label = np.asarray(df_explain[name+'_label_full']).astype(int)\n",
    "predicted_prob = np.asarray(df_explain[name+'_prob']).astype(float)\n",
    "fraction_of_positives, mean_predicted_value = calibration_curve(true_label, predicted_prob, n_bins=10)\n",
    "clf_score = brier_score_loss(true_label, predicted_prob, pos_label=1)\n",
    "plt.plot(mean_predicted_value, fraction_of_positives, \"s-\",\n",
    "                 label=\"%s (%1.3f)\" % ('Data-before binning', clf_score))\n",
    "plt.plot([0, 1], [0, 1], \"k:\", label=\"Perfectly calibrated\")\n",
    "plt.ylabel('Fraction of positives')\n",
    "#plt.ylim([-0.05, 1.05])\n",
    "plt.title('Calibration plots  (reliability curve) for full label for '+ name)\n",
    "plt.legend()\n",
    "plt.show()"
   ]
  },
  {
   "cell_type": "code",
   "execution_count": 65,
   "metadata": {
    "hidden": true
   },
   "outputs": [
    {
     "data": {
      "image/png": "[encoded data removed]",
      "text/plain": [
       "<Figure size 432x288 with 1 Axes>"
      ]
     },
     "metadata": {
      "needs_background": "light"
     },
     "output_type": "display_data"
    }
   ],
   "source": [
    "#Reliability Curve\n",
    "from sklearn.calibration import CalibratedClassifierCV, calibration_curve\n",
    "from sklearn.metrics import (brier_score_loss, precision_score, recall_score,\n",
    "                             f1_score)\n",
    "true_label = np.asarray(df_explain[name+'_label_imp']).astype(int)\n",
    "predicted_prob = np.asarray(df_explain[name+'_prob']).astype(float)\n",
    "fraction_of_positives, mean_predicted_value = calibration_curve(true_label, predicted_prob, n_bins=10)\n",
    "clf_score = brier_score_loss(true_label, predicted_prob, pos_label=1)\n",
    "plt.plot(mean_predicted_value, fraction_of_positives, \"s-\",\n",
    "                 label=\"%s (%1.3f)\" % ('Data-before binning', clf_score))\n",
    "plt.plot([0, 1], [0, 1], \"k:\", label=\"Perfectly calibrated\")\n",
    "plt.ylabel('Fraction of positives')\n",
    "#plt.ylim([-0.05, 1.05])\n",
    "plt.title('Calibration plots  (reliability curve) for impression labels for '+ name)\n",
    "plt.legend()\n",
    "plt.show()"
   ]
  },
  {
   "cell_type": "markdown",
   "metadata": {},
   "source": [
    "# Create bins"
   ]
  },
  {
   "cell_type": "code",
   "execution_count": 22,
   "metadata": {},
   "outputs": [
    {
     "data": {
      "text/html": [
       "<div>\n",
       "<style scoped>\n",
       "    .dataframe tbody tr th:only-of-type {\n",
       "        vertical-align: middle;\n",
       "    }\n",
       "\n",
       "    .dataframe tbody tr th {\n",
       "        vertical-align: top;\n",
       "    }\n",
       "\n",
       "    .dataframe thead th {\n",
       "        text-align: right;\n",
       "    }\n",
       "</style>\n",
       "<table border=\"1\" class=\"dataframe\">\n",
       "  <thead>\n",
       "    <tr style=\"text-align: right;\">\n",
       "      <th></th>\n",
       "      <th>names</th>\n",
       "      <th>Cardiomegaly_prob</th>\n",
       "      <th>Cardiomegaly_label_full</th>\n",
       "      <th>Cardiomegaly_label_imp</th>\n",
       "      <th>pacemaker_x</th>\n",
       "      <th>bin</th>\n",
       "    </tr>\n",
       "  </thead>\n",
       "  <tbody>\n",
       "    <tr>\n",
       "      <th>0</th>\n",
       "      <td>/pghbio/dbmi/batmanlab/singla/Image_Text_Proje...</td>\n",
       "      <td>0.358708</td>\n",
       "      <td>0.0</td>\n",
       "      <td>0.0</td>\n",
       "      <td>0.0</td>\n",
       "      <td>1</td>\n",
       "    </tr>\n",
       "  </tbody>\n",
       "</table>\n",
       "</div>"
      ],
      "text/plain": [
       "                                               names  Cardiomegaly_prob  \\\n",
       "0  /pghbio/dbmi/batmanlab/singla/Image_Text_Proje...           0.358708   \n",
       "\n",
       "   Cardiomegaly_label_full  Cardiomegaly_label_imp  pacemaker_x  bin  \n",
       "0                      0.0                     0.0          0.0    1  "
      ]
     },
     "execution_count": 22,
     "metadata": {},
     "output_type": "execute_result"
    }
   ],
   "source": [
    "df_explain.head(1)"
   ]
  },
  {
   "cell_type": "code",
   "execution_count": 23,
   "metadata": {},
   "outputs": [
    {
     "data": {
      "text/html": [
       "<div>\n",
       "<style scoped>\n",
       "    .dataframe tbody tr th:only-of-type {\n",
       "        vertical-align: middle;\n",
       "    }\n",
       "\n",
       "    .dataframe tbody tr th {\n",
       "        vertical-align: top;\n",
       "    }\n",
       "\n",
       "    .dataframe thead th {\n",
       "        text-align: right;\n",
       "    }\n",
       "</style>\n",
       "<table border=\"1\" class=\"dataframe\">\n",
       "  <thead>\n",
       "    <tr style=\"text-align: right;\">\n",
       "      <th></th>\n",
       "      <th>names</th>\n",
       "      <th>Cardiomegaly_prob</th>\n",
       "      <th>Cardiomegaly_label_full</th>\n",
       "      <th>Cardiomegaly_label_imp</th>\n",
       "      <th>pacemaker_x</th>\n",
       "    </tr>\n",
       "    <tr>\n",
       "      <th>bin</th>\n",
       "      <th></th>\n",
       "      <th></th>\n",
       "      <th></th>\n",
       "      <th></th>\n",
       "      <th></th>\n",
       "    </tr>\n",
       "  </thead>\n",
       "  <tbody>\n",
       "    <tr>\n",
       "      <th>0</th>\n",
       "      <td>64858</td>\n",
       "      <td>64858</td>\n",
       "      <td>64858</td>\n",
       "      <td>64858</td>\n",
       "      <td>64858</td>\n",
       "    </tr>\n",
       "    <tr>\n",
       "      <th>1</th>\n",
       "      <td>43962</td>\n",
       "      <td>43962</td>\n",
       "      <td>43962</td>\n",
       "      <td>43962</td>\n",
       "      <td>43962</td>\n",
       "    </tr>\n",
       "    <tr>\n",
       "      <th>2</th>\n",
       "      <td>32174</td>\n",
       "      <td>32174</td>\n",
       "      <td>32174</td>\n",
       "      <td>32174</td>\n",
       "      <td>32174</td>\n",
       "    </tr>\n",
       "    <tr>\n",
       "      <th>3</th>\n",
       "      <td>30870</td>\n",
       "      <td>30870</td>\n",
       "      <td>30870</td>\n",
       "      <td>30870</td>\n",
       "      <td>30870</td>\n",
       "    </tr>\n",
       "    <tr>\n",
       "      <th>4</th>\n",
       "      <td>43616</td>\n",
       "      <td>43616</td>\n",
       "      <td>43616</td>\n",
       "      <td>43616</td>\n",
       "      <td>43616</td>\n",
       "    </tr>\n",
       "  </tbody>\n",
       "</table>\n",
       "</div>"
      ],
      "text/plain": [
       "     names  Cardiomegaly_prob  Cardiomegaly_label_full  \\\n",
       "bin                                                      \n",
       "0    64858              64858                    64858   \n",
       "1    43962              43962                    43962   \n",
       "2    32174              32174                    32174   \n",
       "3    30870              30870                    30870   \n",
       "4    43616              43616                    43616   \n",
       "\n",
       "     Cardiomegaly_label_imp  pacemaker_x  \n",
       "bin                                       \n",
       "0                     64858        64858  \n",
       "1                     43962        43962  \n",
       "2                     32174        32174  \n",
       "3                     30870        30870  \n",
       "4                     43616        43616  "
      ]
     },
     "execution_count": 23,
     "metadata": {},
     "output_type": "execute_result"
    }
   ],
   "source": [
    "df_explain.groupby(by='bin').count()"
   ]
  },
  {
   "cell_type": "code",
   "execution_count": 29,
   "metadata": {},
   "outputs": [
    {
     "data": {
      "text/html": [
       "<div>\n",
       "<style scoped>\n",
       "    .dataframe tbody tr th:only-of-type {\n",
       "        vertical-align: middle;\n",
       "    }\n",
       "\n",
       "    .dataframe tbody tr th {\n",
       "        vertical-align: top;\n",
       "    }\n",
       "\n",
       "    .dataframe thead th {\n",
       "        text-align: right;\n",
       "    }\n",
       "</style>\n",
       "<table border=\"1\" class=\"dataframe\">\n",
       "  <thead>\n",
       "    <tr style=\"text-align: right;\">\n",
       "      <th></th>\n",
       "      <th></th>\n",
       "      <th></th>\n",
       "      <th></th>\n",
       "      <th>names</th>\n",
       "      <th>Cardiomegaly_prob</th>\n",
       "    </tr>\n",
       "    <tr>\n",
       "      <th>bin</th>\n",
       "      <th>Cardiomegaly_label_full</th>\n",
       "      <th>Cardiomegaly_label_imp</th>\n",
       "      <th>pacemaker_x</th>\n",
       "      <th></th>\n",
       "      <th></th>\n",
       "    </tr>\n",
       "  </thead>\n",
       "  <tbody>\n",
       "    <tr>\n",
       "      <th rowspan=\"7\" valign=\"top\">0</th>\n",
       "      <th rowspan=\"3\" valign=\"top\">0.0</th>\n",
       "      <th rowspan=\"2\" valign=\"top\">0.0</th>\n",
       "      <th>0.0</th>\n",
       "      <td>56632</td>\n",
       "      <td>56632</td>\n",
       "    </tr>\n",
       "    <tr>\n",
       "      <th>1.0</th>\n",
       "      <td>530</td>\n",
       "      <td>530</td>\n",
       "    </tr>\n",
       "    <tr>\n",
       "      <th>1.0</th>\n",
       "      <th>0.0</th>\n",
       "      <td>9</td>\n",
       "      <td>9</td>\n",
       "    </tr>\n",
       "    <tr>\n",
       "      <th rowspan=\"4\" valign=\"top\">1.0</th>\n",
       "      <th rowspan=\"2\" valign=\"top\">0.0</th>\n",
       "      <th>0.0</th>\n",
       "      <td>5035</td>\n",
       "      <td>5035</td>\n",
       "    </tr>\n",
       "    <tr>\n",
       "      <th>1.0</th>\n",
       "      <td>88</td>\n",
       "      <td>88</td>\n",
       "    </tr>\n",
       "    <tr>\n",
       "      <th rowspan=\"2\" valign=\"top\">1.0</th>\n",
       "      <th>0.0</th>\n",
       "      <td>2516</td>\n",
       "      <td>2516</td>\n",
       "    </tr>\n",
       "    <tr>\n",
       "      <th>1.0</th>\n",
       "      <td>48</td>\n",
       "      <td>48</td>\n",
       "    </tr>\n",
       "    <tr>\n",
       "      <th rowspan=\"7\" valign=\"top\">1</th>\n",
       "      <th rowspan=\"3\" valign=\"top\">0.0</th>\n",
       "      <th rowspan=\"2\" valign=\"top\">0.0</th>\n",
       "      <th>0.0</th>\n",
       "      <td>31867</td>\n",
       "      <td>31867</td>\n",
       "    </tr>\n",
       "    <tr>\n",
       "      <th>1.0</th>\n",
       "      <td>477</td>\n",
       "      <td>477</td>\n",
       "    </tr>\n",
       "    <tr>\n",
       "      <th>1.0</th>\n",
       "      <th>0.0</th>\n",
       "      <td>12</td>\n",
       "      <td>12</td>\n",
       "    </tr>\n",
       "    <tr>\n",
       "      <th rowspan=\"4\" valign=\"top\">1.0</th>\n",
       "      <th rowspan=\"2\" valign=\"top\">0.0</th>\n",
       "      <th>0.0</th>\n",
       "      <td>7037</td>\n",
       "      <td>7037</td>\n",
       "    </tr>\n",
       "    <tr>\n",
       "      <th>1.0</th>\n",
       "      <td>218</td>\n",
       "      <td>218</td>\n",
       "    </tr>\n",
       "    <tr>\n",
       "      <th rowspan=\"2\" valign=\"top\">1.0</th>\n",
       "      <th>0.0</th>\n",
       "      <td>4265</td>\n",
       "      <td>4265</td>\n",
       "    </tr>\n",
       "    <tr>\n",
       "      <th>1.0</th>\n",
       "      <td>86</td>\n",
       "      <td>86</td>\n",
       "    </tr>\n",
       "    <tr>\n",
       "      <th rowspan=\"7\" valign=\"top\">2</th>\n",
       "      <th rowspan=\"3\" valign=\"top\">0.0</th>\n",
       "      <th rowspan=\"2\" valign=\"top\">0.0</th>\n",
       "      <th>0.0</th>\n",
       "      <td>19486</td>\n",
       "      <td>19486</td>\n",
       "    </tr>\n",
       "    <tr>\n",
       "      <th>1.0</th>\n",
       "      <td>373</td>\n",
       "      <td>373</td>\n",
       "    </tr>\n",
       "    <tr>\n",
       "      <th>1.0</th>\n",
       "      <th>0.0</th>\n",
       "      <td>8</td>\n",
       "      <td>8</td>\n",
       "    </tr>\n",
       "    <tr>\n",
       "      <th rowspan=\"4\" valign=\"top\">1.0</th>\n",
       "      <th rowspan=\"2\" valign=\"top\">0.0</th>\n",
       "      <th>0.0</th>\n",
       "      <td>7077</td>\n",
       "      <td>7077</td>\n",
       "    </tr>\n",
       "    <tr>\n",
       "      <th>1.0</th>\n",
       "      <td>280</td>\n",
       "      <td>280</td>\n",
       "    </tr>\n",
       "    <tr>\n",
       "      <th rowspan=\"2\" valign=\"top\">1.0</th>\n",
       "      <th>0.0</th>\n",
       "      <td>4816</td>\n",
       "      <td>4816</td>\n",
       "    </tr>\n",
       "    <tr>\n",
       "      <th>1.0</th>\n",
       "      <td>134</td>\n",
       "      <td>134</td>\n",
       "    </tr>\n",
       "    <tr>\n",
       "      <th rowspan=\"7\" valign=\"top\">3</th>\n",
       "      <th rowspan=\"3\" valign=\"top\">0.0</th>\n",
       "      <th rowspan=\"2\" valign=\"top\">0.0</th>\n",
       "      <th>0.0</th>\n",
       "      <td>14857</td>\n",
       "      <td>14857</td>\n",
       "    </tr>\n",
       "    <tr>\n",
       "      <th>1.0</th>\n",
       "      <td>421</td>\n",
       "      <td>421</td>\n",
       "    </tr>\n",
       "    <tr>\n",
       "      <th>1.0</th>\n",
       "      <th>0.0</th>\n",
       "      <td>6</td>\n",
       "      <td>6</td>\n",
       "    </tr>\n",
       "    <tr>\n",
       "      <th rowspan=\"4\" valign=\"top\">1.0</th>\n",
       "      <th rowspan=\"2\" valign=\"top\">0.0</th>\n",
       "      <th>0.0</th>\n",
       "      <td>8481</td>\n",
       "      <td>8481</td>\n",
       "    </tr>\n",
       "    <tr>\n",
       "      <th>1.0</th>\n",
       "      <td>474</td>\n",
       "      <td>474</td>\n",
       "    </tr>\n",
       "    <tr>\n",
       "      <th rowspan=\"2\" valign=\"top\">1.0</th>\n",
       "      <th>0.0</th>\n",
       "      <td>6396</td>\n",
       "      <td>6396</td>\n",
       "    </tr>\n",
       "    <tr>\n",
       "      <th>1.0</th>\n",
       "      <td>235</td>\n",
       "      <td>235</td>\n",
       "    </tr>\n",
       "    <tr>\n",
       "      <th rowspan=\"7\" valign=\"top\">4</th>\n",
       "      <th rowspan=\"3\" valign=\"top\">0.0</th>\n",
       "      <th rowspan=\"2\" valign=\"top\">0.0</th>\n",
       "      <th>0.0</th>\n",
       "      <td>12583</td>\n",
       "      <td>12583</td>\n",
       "    </tr>\n",
       "    <tr>\n",
       "      <th>1.0</th>\n",
       "      <td>582</td>\n",
       "      <td>582</td>\n",
       "    </tr>\n",
       "    <tr>\n",
       "      <th>1.0</th>\n",
       "      <th>0.0</th>\n",
       "      <td>7</td>\n",
       "      <td>7</td>\n",
       "    </tr>\n",
       "    <tr>\n",
       "      <th rowspan=\"4\" valign=\"top\">1.0</th>\n",
       "      <th rowspan=\"2\" valign=\"top\">0.0</th>\n",
       "      <th>0.0</th>\n",
       "      <td>14225</td>\n",
       "      <td>14225</td>\n",
       "    </tr>\n",
       "    <tr>\n",
       "      <th>1.0</th>\n",
       "      <td>1323</td>\n",
       "      <td>1323</td>\n",
       "    </tr>\n",
       "    <tr>\n",
       "      <th rowspan=\"2\" valign=\"top\">1.0</th>\n",
       "      <th>0.0</th>\n",
       "      <td>13971</td>\n",
       "      <td>13971</td>\n",
       "    </tr>\n",
       "    <tr>\n",
       "      <th>1.0</th>\n",
       "      <td>925</td>\n",
       "      <td>925</td>\n",
       "    </tr>\n",
       "  </tbody>\n",
       "</table>\n",
       "</div>"
      ],
      "text/plain": [
       "                                                                names  \\\n",
       "bin Cardiomegaly_label_full Cardiomegaly_label_imp pacemaker_x          \n",
       "0   0.0                     0.0                    0.0          56632   \n",
       "                                                   1.0            530   \n",
       "                            1.0                    0.0              9   \n",
       "    1.0                     0.0                    0.0           5035   \n",
       "                                                   1.0             88   \n",
       "                            1.0                    0.0           2516   \n",
       "                                                   1.0             48   \n",
       "1   0.0                     0.0                    0.0          31867   \n",
       "                                                   1.0            477   \n",
       "                            1.0                    0.0             12   \n",
       "    1.0                     0.0                    0.0           7037   \n",
       "                                                   1.0            218   \n",
       "                            1.0                    0.0           4265   \n",
       "                                                   1.0             86   \n",
       "2   0.0                     0.0                    0.0          19486   \n",
       "                                                   1.0            373   \n",
       "                            1.0                    0.0              8   \n",
       "    1.0                     0.0                    0.0           7077   \n",
       "                                                   1.0            280   \n",
       "                            1.0                    0.0           4816   \n",
       "                                                   1.0            134   \n",
       "3   0.0                     0.0                    0.0          14857   \n",
       "                                                   1.0            421   \n",
       "                            1.0                    0.0              6   \n",
       "    1.0                     0.0                    0.0           8481   \n",
       "                                                   1.0            474   \n",
       "                            1.0                    0.0           6396   \n",
       "                                                   1.0            235   \n",
       "4   0.0                     0.0                    0.0          12583   \n",
       "                                                   1.0            582   \n",
       "                            1.0                    0.0              7   \n",
       "    1.0                     0.0                    0.0          14225   \n",
       "                                                   1.0           1323   \n",
       "                            1.0                    0.0          13971   \n",
       "                                                   1.0            925   \n",
       "\n",
       "                                                                Cardiomegaly_prob  \n",
       "bin Cardiomegaly_label_full Cardiomegaly_label_imp pacemaker_x                     \n",
       "0   0.0                     0.0                    0.0                      56632  \n",
       "                                                   1.0                        530  \n",
       "                            1.0                    0.0                          9  \n",
       "    1.0                     0.0                    0.0                       5035  \n",
       "                                                   1.0                         88  \n",
       "                            1.0                    0.0                       2516  \n",
       "                                                   1.0                         48  \n",
       "1   0.0                     0.0                    0.0                      31867  \n",
       "                                                   1.0                        477  \n",
       "                            1.0                    0.0                         12  \n",
       "    1.0                     0.0                    0.0                       7037  \n",
       "                                                   1.0                        218  \n",
       "                            1.0                    0.0                       4265  \n",
       "                                                   1.0                         86  \n",
       "2   0.0                     0.0                    0.0                      19486  \n",
       "                                                   1.0                        373  \n",
       "                            1.0                    0.0                          8  \n",
       "    1.0                     0.0                    0.0                       7077  \n",
       "                                                   1.0                        280  \n",
       "                            1.0                    0.0                       4816  \n",
       "                                                   1.0                        134  \n",
       "3   0.0                     0.0                    0.0                      14857  \n",
       "                                                   1.0                        421  \n",
       "                            1.0                    0.0                          6  \n",
       "    1.0                     0.0                    0.0                       8481  \n",
       "                                                   1.0                        474  \n",
       "                            1.0                    0.0                       6396  \n",
       "                                                   1.0                        235  \n",
       "4   0.0                     0.0                    0.0                      12583  \n",
       "                                                   1.0                        582  \n",
       "                            1.0                    0.0                          7  \n",
       "    1.0                     0.0                    0.0                      14225  \n",
       "                                                   1.0                       1323  \n",
       "                            1.0                    0.0                      13971  \n",
       "                                                   1.0                        925  "
      ]
     },
     "execution_count": 29,
     "metadata": {},
     "output_type": "execute_result"
    }
   ],
   "source": [
    "df_explain.groupby(by=['bin', name+'_label_full',name+'_label_imp',extra_keyword]).count()"
   ]
  },
  {
   "cell_type": "markdown",
   "metadata": {
    "heading_collapsed": true
   },
   "source": [
    "## Custom sampling"
   ]
  },
  {
   "cell_type": "code",
   "execution_count": 69,
   "metadata": {
    "hidden": true
   },
   "outputs": [],
   "source": [
    "n = 787*2"
   ]
  },
  {
   "cell_type": "code",
   "execution_count": 70,
   "metadata": {
    "hidden": true
   },
   "outputs": [
    {
     "name": "stdout",
     "output_type": "stream",
     "text": [
      "(1574, 6)\n"
     ]
    },
    {
     "data": {
      "text/html": [
       "<div>\n",
       "<style scoped>\n",
       "    .dataframe tbody tr th:only-of-type {\n",
       "        vertical-align: middle;\n",
       "    }\n",
       "\n",
       "    .dataframe tbody tr th {\n",
       "        vertical-align: top;\n",
       "    }\n",
       "\n",
       "    .dataframe thead th {\n",
       "        text-align: right;\n",
       "    }\n",
       "</style>\n",
       "<table border=\"1\" class=\"dataframe\">\n",
       "  <thead>\n",
       "    <tr style=\"text-align: right;\">\n",
       "      <th></th>\n",
       "      <th></th>\n",
       "      <th></th>\n",
       "      <th>names</th>\n",
       "      <th>Cardiomegaly_prob</th>\n",
       "      <th>bin</th>\n",
       "    </tr>\n",
       "    <tr>\n",
       "      <th>pacemaker_x</th>\n",
       "      <th>Cardiomegaly_label_full</th>\n",
       "      <th>Cardiomegaly_label_imp</th>\n",
       "      <th></th>\n",
       "      <th></th>\n",
       "      <th></th>\n",
       "    </tr>\n",
       "  </thead>\n",
       "  <tbody>\n",
       "    <tr>\n",
       "      <th>0.0</th>\n",
       "      <th>0.0</th>\n",
       "      <th>0.0</th>\n",
       "      <td>1574</td>\n",
       "      <td>1574</td>\n",
       "      <td>1574</td>\n",
       "    </tr>\n",
       "  </tbody>\n",
       "</table>\n",
       "</div>"
      ],
      "text/plain": [
       "                                                            names  \\\n",
       "pacemaker_x Cardiomegaly_label_full Cardiomegaly_label_imp          \n",
       "0.0         0.0                     0.0                      1574   \n",
       "\n",
       "                                                            Cardiomegaly_prob  \\\n",
       "pacemaker_x Cardiomegaly_label_full Cardiomegaly_label_imp                      \n",
       "0.0         0.0                     0.0                                  1574   \n",
       "\n",
       "                                                             bin  \n",
       "pacemaker_x Cardiomegaly_label_full Cardiomegaly_label_imp        \n",
       "0.0         0.0                     0.0                     1574  "
      ]
     },
     "execution_count": 70,
     "metadata": {},
     "output_type": "execute_result"
    }
   ],
   "source": [
    "bin_0 = df_explain.loc[df_explain['bin'] == 0]\n",
    "bin_0 = bin_0.loc[bin_0[name+'_label_imp'] == 0]\n",
    "bin_0 = bin_0.loc[bin_0[name+'_label_full'] == 0]\n",
    "bin_0 = bin_0.loc[bin_0[extra_keyword] == 0]\n",
    "bin_0_final = bin_0.sample(n = n, random_state=0)\n",
    "print(bin_0_final.shape)\n",
    "bin_0_final.groupby(by=[extra_keyword, name+'_label_full',name+'_label_imp']).count()"
   ]
  },
  {
   "cell_type": "code",
   "execution_count": 71,
   "metadata": {
    "hidden": true
   },
   "outputs": [
    {
     "name": "stdout",
     "output_type": "stream",
     "text": [
      "(1574, 6)\n"
     ]
    },
    {
     "data": {
      "text/html": [
       "<div>\n",
       "<style scoped>\n",
       "    .dataframe tbody tr th:only-of-type {\n",
       "        vertical-align: middle;\n",
       "    }\n",
       "\n",
       "    .dataframe tbody tr th {\n",
       "        vertical-align: top;\n",
       "    }\n",
       "\n",
       "    .dataframe thead th {\n",
       "        text-align: right;\n",
       "    }\n",
       "</style>\n",
       "<table border=\"1\" class=\"dataframe\">\n",
       "  <thead>\n",
       "    <tr style=\"text-align: right;\">\n",
       "      <th></th>\n",
       "      <th></th>\n",
       "      <th></th>\n",
       "      <th>names</th>\n",
       "      <th>Cardiomegaly_prob</th>\n",
       "      <th>bin</th>\n",
       "    </tr>\n",
       "    <tr>\n",
       "      <th>pacemaker_x</th>\n",
       "      <th>Cardiomegaly_label_full</th>\n",
       "      <th>Cardiomegaly_label_imp</th>\n",
       "      <th></th>\n",
       "      <th></th>\n",
       "      <th></th>\n",
       "    </tr>\n",
       "  </thead>\n",
       "  <tbody>\n",
       "    <tr>\n",
       "      <th>0.0</th>\n",
       "      <th>0.0</th>\n",
       "      <th>0.0</th>\n",
       "      <td>1574</td>\n",
       "      <td>1574</td>\n",
       "      <td>1574</td>\n",
       "    </tr>\n",
       "  </tbody>\n",
       "</table>\n",
       "</div>"
      ],
      "text/plain": [
       "                                                            names  \\\n",
       "pacemaker_x Cardiomegaly_label_full Cardiomegaly_label_imp          \n",
       "0.0         0.0                     0.0                      1574   \n",
       "\n",
       "                                                            Cardiomegaly_prob  \\\n",
       "pacemaker_x Cardiomegaly_label_full Cardiomegaly_label_imp                      \n",
       "0.0         0.0                     0.0                                  1574   \n",
       "\n",
       "                                                             bin  \n",
       "pacemaker_x Cardiomegaly_label_full Cardiomegaly_label_imp        \n",
       "0.0         0.0                     0.0                     1574  "
      ]
     },
     "execution_count": 71,
     "metadata": {},
     "output_type": "execute_result"
    }
   ],
   "source": [
    "bin_1 = df_explain.loc[df_explain['bin'] == 1]\n",
    "bin_1 = bin_1.loc[bin_1[name+'_label_imp'] == 0]\n",
    "bin_1 = bin_1.loc[bin_1[name+'_label_full'] == 0]\n",
    "bin_1 = bin_1.loc[bin_1[extra_keyword] == 0]\n",
    "bin_1_final = bin_1.sample(n = n, random_state=0)\n",
    "print(bin_1_final.shape)\n",
    "bin_1_final.groupby(by=[extra_keyword, name+'_label_full',name+'_label_imp']).count()"
   ]
  },
  {
   "cell_type": "code",
   "execution_count": 72,
   "metadata": {
    "hidden": true
   },
   "outputs": [
    {
     "name": "stdout",
     "output_type": "stream",
     "text": [
      "((787, 6), (787, 6), (1574, 6))\n"
     ]
    },
    {
     "data": {
      "text/html": [
       "<div>\n",
       "<style scoped>\n",
       "    .dataframe tbody tr th:only-of-type {\n",
       "        vertical-align: middle;\n",
       "    }\n",
       "\n",
       "    .dataframe tbody tr th {\n",
       "        vertical-align: top;\n",
       "    }\n",
       "\n",
       "    .dataframe thead th {\n",
       "        text-align: right;\n",
       "    }\n",
       "</style>\n",
       "<table border=\"1\" class=\"dataframe\">\n",
       "  <thead>\n",
       "    <tr style=\"text-align: right;\">\n",
       "      <th></th>\n",
       "      <th></th>\n",
       "      <th></th>\n",
       "      <th>names</th>\n",
       "      <th>Cardiomegaly_prob</th>\n",
       "      <th>bin</th>\n",
       "    </tr>\n",
       "    <tr>\n",
       "      <th>pacemaker_x</th>\n",
       "      <th>Cardiomegaly_label_full</th>\n",
       "      <th>Cardiomegaly_label_imp</th>\n",
       "      <th></th>\n",
       "      <th></th>\n",
       "      <th></th>\n",
       "    </tr>\n",
       "  </thead>\n",
       "  <tbody>\n",
       "    <tr>\n",
       "      <th>0.0</th>\n",
       "      <th>0.0</th>\n",
       "      <th>0.0</th>\n",
       "      <td>787</td>\n",
       "      <td>787</td>\n",
       "      <td>787</td>\n",
       "    </tr>\n",
       "    <tr>\n",
       "      <th rowspan=\"3\" valign=\"top\">1.0</th>\n",
       "      <th>0.0</th>\n",
       "      <th>0.0</th>\n",
       "      <td>373</td>\n",
       "      <td>373</td>\n",
       "      <td>373</td>\n",
       "    </tr>\n",
       "    <tr>\n",
       "      <th rowspan=\"2\" valign=\"top\">1.0</th>\n",
       "      <th>0.0</th>\n",
       "      <td>280</td>\n",
       "      <td>280</td>\n",
       "      <td>280</td>\n",
       "    </tr>\n",
       "    <tr>\n",
       "      <th>1.0</th>\n",
       "      <td>134</td>\n",
       "      <td>134</td>\n",
       "      <td>134</td>\n",
       "    </tr>\n",
       "  </tbody>\n",
       "</table>\n",
       "</div>"
      ],
      "text/plain": [
       "                                                            names  \\\n",
       "pacemaker_x Cardiomegaly_label_full Cardiomegaly_label_imp          \n",
       "0.0         0.0                     0.0                       787   \n",
       "1.0         0.0                     0.0                       373   \n",
       "            1.0                     0.0                       280   \n",
       "                                    1.0                       134   \n",
       "\n",
       "                                                            Cardiomegaly_prob  \\\n",
       "pacemaker_x Cardiomegaly_label_full Cardiomegaly_label_imp                      \n",
       "0.0         0.0                     0.0                                   787   \n",
       "1.0         0.0                     0.0                                   373   \n",
       "            1.0                     0.0                                   280   \n",
       "                                    1.0                                   134   \n",
       "\n",
       "                                                            bin  \n",
       "pacemaker_x Cardiomegaly_label_full Cardiomegaly_label_imp       \n",
       "0.0         0.0                     0.0                     787  \n",
       "1.0         0.0                     0.0                     373  \n",
       "            1.0                     0.0                     280  \n",
       "                                    1.0                     134  "
      ]
     },
     "execution_count": 72,
     "metadata": {},
     "output_type": "execute_result"
    }
   ],
   "source": [
    "bin_2 = df_explain.loc[df_explain['bin'] == 2]\n",
    "bin_2_0 = bin_2.loc[bin_2[name+'_label_imp'] == 0]\n",
    "bin_2_0 = bin_2_0.loc[bin_2_0[name+'_label_full'] == 0]\n",
    "bin_2_0 = bin_2_0.loc[bin_2_0[extra_keyword] == 0]\n",
    "bin_2_0 = bin_2_0.sample(n = int(n/2), random_state=0)\n",
    "bin_2_1 = bin_2.loc[bin_2[extra_keyword] == 1]\n",
    "bin_2_final = pd.concat([bin_2_0, bin_2_1])  \n",
    "print(bin_2_0.shape, bin_2_1.shape,bin_2_final.shape)\n",
    "bin_2_final.groupby(by=[extra_keyword, name+'_label_full',name+'_label_imp']).count()"
   ]
  },
  {
   "cell_type": "code",
   "execution_count": 73,
   "metadata": {
    "hidden": true
   },
   "outputs": [
    {
     "name": "stdout",
     "output_type": "stream",
     "text": [
      "(1130, 6)\n"
     ]
    },
    {
     "data": {
      "text/html": [
       "<div>\n",
       "<style scoped>\n",
       "    .dataframe tbody tr th:only-of-type {\n",
       "        vertical-align: middle;\n",
       "    }\n",
       "\n",
       "    .dataframe tbody tr th {\n",
       "        vertical-align: top;\n",
       "    }\n",
       "\n",
       "    .dataframe thead th {\n",
       "        text-align: right;\n",
       "    }\n",
       "</style>\n",
       "<table border=\"1\" class=\"dataframe\">\n",
       "  <thead>\n",
       "    <tr style=\"text-align: right;\">\n",
       "      <th></th>\n",
       "      <th></th>\n",
       "      <th></th>\n",
       "      <th>names</th>\n",
       "      <th>Cardiomegaly_prob</th>\n",
       "      <th>bin</th>\n",
       "    </tr>\n",
       "    <tr>\n",
       "      <th>pacemaker_x</th>\n",
       "      <th>Cardiomegaly_label_full</th>\n",
       "      <th>Cardiomegaly_label_imp</th>\n",
       "      <th></th>\n",
       "      <th></th>\n",
       "      <th></th>\n",
       "    </tr>\n",
       "  </thead>\n",
       "  <tbody>\n",
       "    <tr>\n",
       "      <th rowspan=\"3\" valign=\"top\">1.0</th>\n",
       "      <th>0.0</th>\n",
       "      <th>0.0</th>\n",
       "      <td>421</td>\n",
       "      <td>421</td>\n",
       "      <td>421</td>\n",
       "    </tr>\n",
       "    <tr>\n",
       "      <th rowspan=\"2\" valign=\"top\">1.0</th>\n",
       "      <th>0.0</th>\n",
       "      <td>474</td>\n",
       "      <td>474</td>\n",
       "      <td>474</td>\n",
       "    </tr>\n",
       "    <tr>\n",
       "      <th>1.0</th>\n",
       "      <td>235</td>\n",
       "      <td>235</td>\n",
       "      <td>235</td>\n",
       "    </tr>\n",
       "  </tbody>\n",
       "</table>\n",
       "</div>"
      ],
      "text/plain": [
       "                                                            names  \\\n",
       "pacemaker_x Cardiomegaly_label_full Cardiomegaly_label_imp          \n",
       "1.0         0.0                     0.0                       421   \n",
       "            1.0                     0.0                       474   \n",
       "                                    1.0                       235   \n",
       "\n",
       "                                                            Cardiomegaly_prob  \\\n",
       "pacemaker_x Cardiomegaly_label_full Cardiomegaly_label_imp                      \n",
       "1.0         0.0                     0.0                                   421   \n",
       "            1.0                     0.0                                   474   \n",
       "                                    1.0                                   235   \n",
       "\n",
       "                                                            bin  \n",
       "pacemaker_x Cardiomegaly_label_full Cardiomegaly_label_imp       \n",
       "1.0         0.0                     0.0                     421  \n",
       "            1.0                     0.0                     474  \n",
       "                                    1.0                     235  "
      ]
     },
     "execution_count": 73,
     "metadata": {},
     "output_type": "execute_result"
    }
   ],
   "source": [
    "bin_3 = df_explain.loc[df_explain['bin'] == 3]\n",
    "bin_3_1 = bin_3.loc[bin_3[extra_keyword] == 1]\n",
    "print(bin_3_1.shape)\n",
    "bin_3_1.groupby(by=[extra_keyword, name+'_label_full',name+'_label_imp']).count()"
   ]
  },
  {
   "cell_type": "code",
   "execution_count": 74,
   "metadata": {
    "hidden": true
   },
   "outputs": [
    {
     "name": "stdout",
     "output_type": "stream",
     "text": [
      "(925, 6)\n",
      "(1323, 6)\n",
      "(1574, 6)\n"
     ]
    },
    {
     "data": {
      "text/html": [
       "<div>\n",
       "<style scoped>\n",
       "    .dataframe tbody tr th:only-of-type {\n",
       "        vertical-align: middle;\n",
       "    }\n",
       "\n",
       "    .dataframe tbody tr th {\n",
       "        vertical-align: top;\n",
       "    }\n",
       "\n",
       "    .dataframe thead th {\n",
       "        text-align: right;\n",
       "    }\n",
       "</style>\n",
       "<table border=\"1\" class=\"dataframe\">\n",
       "  <thead>\n",
       "    <tr style=\"text-align: right;\">\n",
       "      <th></th>\n",
       "      <th></th>\n",
       "      <th></th>\n",
       "      <th>names</th>\n",
       "      <th>Cardiomegaly_prob</th>\n",
       "      <th>bin</th>\n",
       "    </tr>\n",
       "    <tr>\n",
       "      <th>pacemaker_x</th>\n",
       "      <th>Cardiomegaly_label_full</th>\n",
       "      <th>Cardiomegaly_label_imp</th>\n",
       "      <th></th>\n",
       "      <th></th>\n",
       "      <th></th>\n",
       "    </tr>\n",
       "  </thead>\n",
       "  <tbody>\n",
       "    <tr>\n",
       "      <th rowspan=\"2\" valign=\"top\">1.0</th>\n",
       "      <th rowspan=\"2\" valign=\"top\">1.0</th>\n",
       "      <th>0.0</th>\n",
       "      <td>649</td>\n",
       "      <td>649</td>\n",
       "      <td>649</td>\n",
       "    </tr>\n",
       "    <tr>\n",
       "      <th>1.0</th>\n",
       "      <td>925</td>\n",
       "      <td>925</td>\n",
       "      <td>925</td>\n",
       "    </tr>\n",
       "  </tbody>\n",
       "</table>\n",
       "</div>"
      ],
      "text/plain": [
       "                                                            names  \\\n",
       "pacemaker_x Cardiomegaly_label_full Cardiomegaly_label_imp          \n",
       "1.0         1.0                     0.0                       649   \n",
       "                                    1.0                       925   \n",
       "\n",
       "                                                            Cardiomegaly_prob  \\\n",
       "pacemaker_x Cardiomegaly_label_full Cardiomegaly_label_imp                      \n",
       "1.0         1.0                     0.0                                   649   \n",
       "                                    1.0                                   925   \n",
       "\n",
       "                                                            bin  \n",
       "pacemaker_x Cardiomegaly_label_full Cardiomegaly_label_imp       \n",
       "1.0         1.0                     0.0                     649  \n",
       "                                    1.0                     925  "
      ]
     },
     "execution_count": 74,
     "metadata": {},
     "output_type": "execute_result"
    }
   ],
   "source": [
    "bin_4 = df_explain.loc[df_explain['bin'] == 4]\n",
    "bin_4_1 = bin_4.loc[bin_4[extra_keyword] == 1]\n",
    "bin_4_1_1 = bin_4_1.loc[bin_4_1[name+'_label_imp'] == 1]\n",
    "print(bin_4_1_1.shape)\n",
    "bin_4_0 = bin_4_1.loc[bin_4_1[name+'_label_full'] == 1]\n",
    "bin_4_0 = bin_4_0.loc[bin_4_0[name+'_label_imp'] == 0]\n",
    "print(bin_4_0.shape)\n",
    "bin_4_0 = bin_4_0.sample(n=n-bin_4_1_1.shape[0], random_state=0)\n",
    "bin_4_final = pd.concat([bin_4_1_1, bin_4_0])  \n",
    "print(bin_4_final.shape)\n",
    "bin_4_final.groupby(by=[extra_keyword, name+'_label_full',name+'_label_imp']).count()"
   ]
  },
  {
   "cell_type": "code",
   "execution_count": 75,
   "metadata": {
    "hidden": true
   },
   "outputs": [],
   "source": [
    "df_bin_all = pd.concat([bin_0_final, bin_1_final, bin_2_final, bin_3_1, bin_4_final])   "
   ]
  },
  {
   "cell_type": "code",
   "execution_count": 76,
   "metadata": {
    "hidden": true
   },
   "outputs": [
    {
     "name": "stdout",
     "output_type": "stream",
     "text": [
      "(array([0, 1, 2, 3, 4]), array([1574, 1574, 1574, 1130, 1574]))\n"
     ]
    }
   ],
   "source": [
    "print(np.unique(df_bin_all['bin'] ,return_counts=True))"
   ]
  },
  {
   "cell_type": "code",
   "execution_count": 81,
   "metadata": {
    "hidden": true
   },
   "outputs": [
    {
     "data": {
      "image/png": "[encoded data removed]",
      "text/plain": [
       "<Figure size 432x288 with 1 Axes>"
      ]
     },
     "metadata": {
      "needs_background": "light"
     },
     "output_type": "display_data"
    }
   ],
   "source": [
    "#Reliability Curve\n",
    "from sklearn.calibration import CalibratedClassifierCV, calibration_curve\n",
    "from sklearn.metrics import (brier_score_loss, precision_score, recall_score,\n",
    "                             f1_score)\n",
    "true_label = np.asarray(df_bin_all[name+'_label_full']).astype(int)\n",
    "predicted_prob = np.asarray(df_bin_all[name+'_prob']).astype(float)\n",
    "fraction_of_positives, mean_predicted_value = calibration_curve(true_label, predicted_prob, n_bins=10)\n",
    "clf_score = brier_score_loss(true_label, predicted_prob, pos_label=1)\n",
    "plt.plot(mean_predicted_value, fraction_of_positives, \"s-\",\n",
    "                 label=\"%s (%1.3f)\" % ('Data-after binning', clf_score))\n",
    "plt.plot([0, 1], [0, 1], \"k:\", label=\"Perfectly calibrated\")\n",
    "plt.ylabel('Fraction of positives')\n",
    "plt.ylim([-0.05, 1.05])\n",
    "plt.title('Calibration plots  (reliability curve) for impression: '+name)\n",
    "plt.legend()\n",
    "plt.show()"
   ]
  },
  {
   "cell_type": "code",
   "execution_count": 82,
   "metadata": {
    "hidden": true
   },
   "outputs": [
    {
     "name": "stdout",
     "output_type": "stream",
     "text": [
      "('/pghbio/dbmi/batmanlab/singla/Explanation_XRay/output/classifier/StanfordCheXpert_256_ICLR/explainer_MIMIC', 'Cardiomegaly')\n"
     ]
    }
   ],
   "source": [
    "experiment_dir = os.path.join(main_dir,config['log_dir'], config['name'], 'explainer_MIMIC')\n",
    "print(experiment_dir,name)\n",
    "if not os.path.exists(experiment_dir):\n",
    "    os.makedirs(experiment_dir)"
   ]
  },
  {
   "cell_type": "code",
   "execution_count": 83,
   "metadata": {
    "hidden": true
   },
   "outputs": [],
   "source": [
    "name1 = name + '_' + extra_keyword"
   ]
  },
  {
   "cell_type": "code",
   "execution_count": 84,
   "metadata": {
    "hidden": true
   },
   "outputs": [
    {
     "name": "stdout",
     "output_type": "stream",
     "text": [
      "(7426, 2)\n",
      "7426\n",
      "\n",
      "0-0.19 0.2-0.39 0.4-0.59 0.6-0.79 0.8-0.99\n",
      "\n",
      "/pghbio/dbmi/batmanlab/singla/Image_Text_Project/MIMICCX/Data/512/13852361/51445877/view3_lateral_HE.jpeg 0\n",
      "\n",
      "/pghbio/dbmi/batmanlab/singla/Image_Text_Project/MIMICCX/Data/512/19078733/58509574/view3_lateral_HE.jpeg 0\n",
      "\n",
      "/pghbio/dbmi/batmanlab/singla/Image_Text_Project/MIMICCX/Data/512/17070596/51505898/view3_lateral_HE.jpeg 0\n",
      "\n",
      "/pghbio/dbmi/batmanlab/singla/Image_Text_Project/MIMICCX/Data/512/18750684/53712364/view2_lateral_HE.jpeg 0\n",
      "\n"
     ]
    }
   ],
   "source": [
    "df_temp = df_bin_all[['names', 'bin']]\n",
    "df_temp.to_csv(os.path.join(experiment_dir, 'list_attr_'+name1+'.txt'), sep = ' ', index = None, header = None)\n",
    "print(df_temp.shape)\n",
    "one_line = str(df_temp.shape[0]) + '\\n'\n",
    "second_line = \"0-0.19 0.2-0.39 0.4-0.59 0.6-0.79 0.8-0.99\\n\"\n",
    "with open(os.path.join(experiment_dir, 'list_attr_'+name1+'.txt'), 'r+') as fp:\n",
    "    lines = fp.readlines()     # lines is list of line, each element '...\\n'\n",
    "    lines.insert(0, one_line)  # you can use any index if you know the line index\n",
    "    lines.insert(1, second_line)\n",
    "    fp.seek(0)                 # file pointer locates at the beginning to write the whole file again\n",
    "    fp.writelines(lines) \n",
    "fp = open(os.path.join(experiment_dir, 'list_attr_'+name1+'.txt'), 'rw')\n",
    "print(fp.readline())\n",
    "print(fp.readline())\n",
    "print(fp.readline())\n",
    "print(fp.readline())\n",
    "print(fp.readline())\n",
    "print(fp.readline())\n",
    "df_bin_all.to_csv(os.path.join(experiment_dir, 'extra','Data_Output_Classifier_'+name1+'.csv'), sep = ' ', index = None)"
   ]
  },
  {
   "cell_type": "markdown",
   "metadata": {
    "heading_collapsed": true
   },
   "source": [
    "## Caliberated Sampling"
   ]
  },
  {
   "cell_type": "code",
   "execution_count": 28,
   "metadata": {
    "collapsed": true,
    "hidden": true
   },
   "outputs": [
    {
     "name": "stdout",
     "output_type": "stream",
     "text": [
      "0\n",
      "(106218, 4)\n",
      "(3.6645753e-10, 0.09999554)\n",
      "(array([0.0, 1.0], dtype=object), array([102029,   4189]))\n",
      "(4000, 4)\n",
      "(array([0.0], dtype=object), array([4000]))\n",
      "1\n",
      "(24214, 4)\n",
      "(0.100000754, 0.19999897)\n",
      "(array([0.0, 1.0], dtype=object), array([21187,  3027]))\n",
      "(8000, 4)\n",
      "(array([0.0, 1.0], dtype=object), array([3600,  400]))\n",
      "2\n",
      "(14218, 4)\n",
      "(0.20001338, 0.29999754)\n",
      "(array([0.0, 1.0], dtype=object), array([11645,  2573]))\n",
      "(12000, 4)\n",
      "(array([0.0, 1.0], dtype=object), array([3200,  800]))\n",
      "3\n",
      "(10191, 4)\n",
      "(0.30001906, 0.3999659)\n",
      "(array([0.0, 1.0], dtype=object), array([7699, 2492]))\n",
      "(16000, 4)\n",
      "(array([0.0, 1.0], dtype=object), array([2800, 1200]))\n",
      "4\n",
      "(8052, 4)\n",
      "(0.40002975, 0.499973)\n",
      "(array([0.0, 1.0], dtype=object), array([5700, 2352]))\n",
      "(20000, 4)\n",
      "(array([0.0, 1.0], dtype=object), array([2400, 1600]))\n",
      "5\n",
      "(6917, 4)\n",
      "(0.5000184, 0.59997404)\n",
      "(array([0.0, 1.0], dtype=object), array([4304, 2613]))\n",
      "(24000, 4)\n",
      "(array([0.0, 1.0], dtype=object), array([2000, 2000]))\n",
      "6\n",
      "(6123, 4)\n",
      "(0.60001254, 0.6999439)\n",
      "(array([0.0, 1.0], dtype=object), array([3415, 2708]))\n",
      "(28000, 4)\n",
      "(array([0.0, 1.0], dtype=object), array([1599, 2401]))\n",
      "7\n",
      "(5780, 4)\n",
      "(0.70001876, 0.7999971)\n",
      "(array([0.0, 1.0], dtype=object), array([2701, 3079]))\n",
      "(32000, 4)\n",
      "(array([0.0, 1.0], dtype=object), array([1199, 2801]))\n",
      "8\n",
      "(5838, 4)\n",
      "(0.8000008, 0.8999987)\n",
      "(array([0.0, 1.0], dtype=object), array([1975, 3863]))\n",
      "(36000, 4)\n",
      "(array([0.0, 1.0], dtype=object), array([ 799, 3201]))\n",
      "9\n",
      "(4705, 4)\n",
      "(0.90002835, 0.9997378)\n",
      "(array([0.0, 1.0], dtype=object), array([ 884, 3821]))\n",
      "(40000, 4)\n",
      "(array([0.0, 1.0], dtype=object), array([ 399, 3601]))\n"
     ]
    }
   ],
   "source": [
    "for i in range(5):\n",
    "    print i\n",
    "    df_bin = df.loc[df['bin'] == i]\n",
    "    print(df_bin.shape)\n",
    "    print(np.min(df_bin['prob']), np.max(df_bin['prob']))\n",
    "    print(np.unique(df_bin['label'],return_counts=True))\n",
    "    df_bin_0 = df.loc[(df['bin'] == i) & (df['label'] ==0)]\n",
    "    df_bin_1 = df.loc[(df['bin'] == i) & (df['label'] ==1)]\n",
    "    n_0 = int((1 - (0.1 * i) ) * n)\n",
    "    if df_bin_0.shape[0] >= n_0:\n",
    "        df_bin = df_bin_0.sample(n=n_0)\n",
    "    else:\n",
    "        df_bin = df_bin_0\n",
    "        n_0 = df_bin_0.shape[0]\n",
    "    n_1 = n - n_0\n",
    "    if df_bin_1.shape[0] >= n_1:\n",
    "        df_bin = pd.concat([df_bin, df_bin_1.sample(n=n_1)])        \n",
    "    else:\n",
    "        df_bin = pd.concat([df_bin, df_bin_1])    \n",
    "        \n",
    "    if i == 0:\n",
    "        df_bin_all = df_bin\n",
    "    else:\n",
    "        df_bin_all = pd.concat([df_bin, df_bin_all])\n",
    "    print(df_bin_all.shape)\n",
    "    print(np.unique(df_bin['label'],return_counts=True))"
   ]
  },
  {
   "cell_type": "code",
   "execution_count": 29,
   "metadata": {
    "hidden": true
   },
   "outputs": [
    {
     "name": "stdout",
     "output_type": "stream",
     "text": [
      "(array([0, 1, 2, 3, 4, 5, 6, 7, 8, 9]), array([4000, 4000, 4000, 4000, 4000, 4000, 4000, 4000, 4000, 4000]))\n"
     ]
    }
   ],
   "source": [
    "print(np.unique(df_bin_all['bin'] ,return_counts=True))"
   ]
  },
  {
   "cell_type": "code",
   "execution_count": 30,
   "metadata": {
    "hidden": true
   },
   "outputs": [
    {
     "data": {
      "image/png": "[encoded data removed]",
      "text/plain": [
       "<Figure size 432x288 with 1 Axes>"
      ]
     },
     "metadata": {
      "needs_background": "light"
     },
     "output_type": "display_data"
    }
   ],
   "source": [
    "#Reliability Curve\n",
    "from sklearn.calibration import CalibratedClassifierCV, calibration_curve\n",
    "from sklearn.metrics import (brier_score_loss, precision_score, recall_score,\n",
    "                             f1_score)\n",
    "true_label = np.asarray(df_bin_all['label']).astype(int)\n",
    "predicted_prob = np.asarray(df_bin_all['prob']).astype(float)\n",
    "fraction_of_positives, mean_predicted_value = calibration_curve(true_label, predicted_prob, n_bins=10)\n",
    "clf_score = brier_score_loss(true_label, predicted_prob, pos_label=1)\n",
    "plt.plot(mean_predicted_value, fraction_of_positives, \"s-\",\n",
    "                 label=\"%s (%1.3f)\" % ('Data-after binning', clf_score))\n",
    "plt.plot([0, 1], [0, 1], \"k:\", label=\"Perfectly calibrated\")\n",
    "plt.ylabel('Fraction of positives')\n",
    "plt.ylim([-0.05, 1.05])\n",
    "plt.title('Calibration plots  (reliability curve) for '+name)\n",
    "plt.legend()\n",
    "plt.show()"
   ]
  },
  {
   "cell_type": "markdown",
   "metadata": {
    "heading_collapsed": true
   },
   "source": [
    "## Save the output"
   ]
  },
  {
   "cell_type": "code",
   "execution_count": 31,
   "metadata": {
    "hidden": true
   },
   "outputs": [],
   "source": [
    "experiment_dir = os.path.join(main_dir+config['log_dir'][1:], config['name'], 'explainer_input')"
   ]
  },
  {
   "cell_type": "code",
   "execution_count": 32,
   "metadata": {
    "hidden": true
   },
   "outputs": [
    {
     "name": "stdout",
     "output_type": "stream",
     "text": [
      "('/pghbio/dbmi/batmanlab/singla/Explanation_XRay/output/classifier/StanfordCheXpert_128_ICLR/explainer_input', 'cardiomegaly')\n"
     ]
    }
   ],
   "source": [
    "print(experiment_dir,name)\n",
    "if not os.path.exists(experiment_dir):\n",
    "    os.makedirs(experiment_dir)"
   ]
  },
  {
   "cell_type": "code",
   "execution_count": 34,
   "metadata": {
    "hidden": true
   },
   "outputs": [],
   "source": [
    "name = 'cardiomegaly_caliberated'"
   ]
  },
  {
   "cell_type": "code",
   "execution_count": 35,
   "metadata": {
    "hidden": true
   },
   "outputs": [
    {
     "name": "stdout",
     "output_type": "stream",
     "text": [
      "(40000, 2)\n",
      "40000\n",
      "\n",
      "0-0.09 0.1-0.19 0.2-0.29 0.3-0.39 0.4-0.49 0.5-0.59 0.6-0.69 0.7-0.79 0.8-0.89 0.9-0.99\n",
      "\n",
      "CheXpert-v1.0-small/train/patient39726/study6/view1_frontal.jpg 9\n",
      "\n",
      "CheXpert-v1.0-small/train/patient01167/study6/view1_frontal.jpg 9\n",
      "\n",
      "CheXpert-v1.0-small/train/patient02298/study3/view2_lateral.jpg 9\n",
      "\n",
      "CheXpert-v1.0-small/train/patient15635/study8/view2_lateral.jpg 9\n",
      "\n"
     ]
    }
   ],
   "source": [
    "df_temp = df_bin_all[['filename', 'bin']]\n",
    "df_temp.to_csv(os.path.join(experiment_dir, 'list_attr_'+name+'.txt'), sep = ' ', index = None, header = None)\n",
    "print(df_temp.shape)\n",
    "one_line = str(df_temp.shape[0]) + '\\n'\n",
    "second_line = \"0-0.09 0.1-0.19 0.2-0.29 0.3-0.39 0.4-0.49 0.5-0.59 0.6-0.69 0.7-0.79 0.8-0.89 0.9-0.99\\n\"\n",
    "with open(os.path.join(experiment_dir, 'list_attr_'+name+'.txt'), 'r+') as fp:\n",
    "    lines = fp.readlines()     # lines is list of line, each element '...\\n'\n",
    "    lines.insert(0, one_line)  # you can use any index if you know the line index\n",
    "    lines.insert(1, second_line)\n",
    "    fp.seek(0)                 # file pointer locates at the beginning to write the whole file again\n",
    "    fp.writelines(lines) \n",
    "fp = open(os.path.join(experiment_dir, 'list_attr_'+name+'.txt'), 'rw')\n",
    "print(fp.readline())\n",
    "print(fp.readline())\n",
    "print(fp.readline())\n",
    "print(fp.readline())\n",
    "print(fp.readline())\n",
    "print(fp.readline())\n",
    "df_bin_all.to_csv(os.path.join(experiment_dir, 'Data_Output_Classifier_'+name+'.csv'), sep = ' ', index = None)\n",
    "df_test_results.to_csv(os.path.join(experiment_dir, 'Data_Output_Classifier_All_Test_'+name+'.csv'), sep = ' ', index = None)\n",
    "df_train_results.to_csv(os.path.join(experiment_dir, 'Data_Output_Classifier_All_Train_'+name+'.csv'), sep = ' ', index = None)"
   ]
  },
  {
   "cell_type": "code",
   "execution_count": 6,
   "metadata": {
    "hidden": true
   },
   "outputs": [],
   "source": [
    "experiment_dir = '../StanfordCheXpert_256_ICLR/explainer/extra/'\n",
    "name = 'Cardiomegaly'"
   ]
  },
  {
   "cell_type": "code",
   "execution_count": 7,
   "metadata": {
    "hidden": true
   },
   "outputs": [],
   "source": [
    "df_combine = pd.read_csv(os.path.join(experiment_dir, 'Data_Output_Classifier_'+name+'.csv'), sep = ' ')"
   ]
  },
  {
   "cell_type": "code",
   "execution_count": 8,
   "metadata": {
    "hidden": true
   },
   "outputs": [
    {
     "data": {
      "image/png": "[encoded data removed]",
      "text/plain": [
       "<Figure size 432x288 with 1 Axes>"
      ]
     },
     "metadata": {
      "needs_background": "light"
     },
     "output_type": "display_data"
    }
   ],
   "source": [
    "#Reliability Curve\n",
    "from sklearn.calibration import CalibratedClassifierCV, calibration_curve\n",
    "from sklearn.metrics import (brier_score_loss, precision_score, recall_score,\n",
    "                             f1_score)\n",
    "\n",
    "fraction_of_positives, mean_predicted_value = calibration_curve(df_combine['label'], df_combine[\"prob\"], n_bins=10)\n",
    "clf_score = brier_score_loss(df_combine['label'], df_combine[\"prob\"], pos_label=1)\n",
    "plt.plot(mean_predicted_value, fraction_of_positives, \"s-\",\n",
    "                 label=\"%s (%1.3f)\" % ('Data', clf_score))\n",
    "plt.plot([0, 1], [0, 1], \"k:\", label=\"Perfectly calibrated\")\n",
    "plt.ylabel('Fraction of positives')\n",
    "plt.ylim([-0.05, 1.05])\n",
    "plt.title('Calibration plots  (reliability curve)')\n",
    "plt.legend()\n",
    "plt.show()"
   ]
  },
  {
   "cell_type": "markdown",
   "metadata": {
    "heading_collapsed": true
   },
   "source": [
    "# Un-caliberated sampling"
   ]
  },
  {
   "cell_type": "code",
   "execution_count": 68,
   "metadata": {
    "hidden": true
   },
   "outputs": [
    {
     "data": {
      "text/html": [
       "<div>\n",
       "<style scoped>\n",
       "    .dataframe tbody tr th:only-of-type {\n",
       "        vertical-align: middle;\n",
       "    }\n",
       "\n",
       "    .dataframe tbody tr th {\n",
       "        vertical-align: top;\n",
       "    }\n",
       "\n",
       "    .dataframe thead th {\n",
       "        text-align: right;\n",
       "    }\n",
       "</style>\n",
       "<table border=\"1\" class=\"dataframe\">\n",
       "  <thead>\n",
       "    <tr style=\"text-align: right;\">\n",
       "      <th></th>\n",
       "      <th>names</th>\n",
       "      <th>Pleural_Effusion_prob</th>\n",
       "      <th>Pleural_Effusion_label_full</th>\n",
       "      <th>Pleural_Effusion_label_imp</th>\n",
       "      <th>bin</th>\n",
       "    </tr>\n",
       "  </thead>\n",
       "  <tbody>\n",
       "    <tr>\n",
       "      <th>0</th>\n",
       "      <td>/pghbio/dbmi/batmanlab/singla/Image_Text_Proje...</td>\n",
       "      <td>0.146888</td>\n",
       "      <td>0.0</td>\n",
       "      <td>0.0</td>\n",
       "      <td>1</td>\n",
       "    </tr>\n",
       "    <tr>\n",
       "      <th>1</th>\n",
       "      <td>/pghbio/dbmi/batmanlab/singla/Image_Text_Proje...</td>\n",
       "      <td>0.234968</td>\n",
       "      <td>0.0</td>\n",
       "      <td>0.0</td>\n",
       "      <td>2</td>\n",
       "    </tr>\n",
       "    <tr>\n",
       "      <th>2</th>\n",
       "      <td>/pghbio/dbmi/batmanlab/singla/Image_Text_Proje...</td>\n",
       "      <td>0.468043</td>\n",
       "      <td>0.0</td>\n",
       "      <td>0.0</td>\n",
       "      <td>4</td>\n",
       "    </tr>\n",
       "    <tr>\n",
       "      <th>3</th>\n",
       "      <td>/pghbio/dbmi/batmanlab/singla/Image_Text_Proje...</td>\n",
       "      <td>0.246989</td>\n",
       "      <td>0.0</td>\n",
       "      <td>0.0</td>\n",
       "      <td>2</td>\n",
       "    </tr>\n",
       "    <tr>\n",
       "      <th>4</th>\n",
       "      <td>/pghbio/dbmi/batmanlab/singla/Image_Text_Proje...</td>\n",
       "      <td>0.420101</td>\n",
       "      <td>0.0</td>\n",
       "      <td>0.0</td>\n",
       "      <td>4</td>\n",
       "    </tr>\n",
       "  </tbody>\n",
       "</table>\n",
       "</div>"
      ],
      "text/plain": [
       "                                               names  Pleural_Effusion_prob  \\\n",
       "0  /pghbio/dbmi/batmanlab/singla/Image_Text_Proje...               0.146888   \n",
       "1  /pghbio/dbmi/batmanlab/singla/Image_Text_Proje...               0.234968   \n",
       "2  /pghbio/dbmi/batmanlab/singla/Image_Text_Proje...               0.468043   \n",
       "3  /pghbio/dbmi/batmanlab/singla/Image_Text_Proje...               0.246989   \n",
       "4  /pghbio/dbmi/batmanlab/singla/Image_Text_Proje...               0.420101   \n",
       "\n",
       "   Pleural_Effusion_label_full  Pleural_Effusion_label_imp  bin  \n",
       "0                          0.0                         0.0    1  \n",
       "1                          0.0                         0.0    2  \n",
       "2                          0.0                         0.0    4  \n",
       "3                          0.0                         0.0    2  \n",
       "4                          0.0                         0.0    4  "
      ]
     },
     "execution_count": 68,
     "metadata": {},
     "output_type": "execute_result"
    }
   ],
   "source": [
    "n = 4000\n",
    "df = df_explain\n",
    "df.head()"
   ]
  },
  {
   "cell_type": "code",
   "execution_count": 69,
   "metadata": {
    "hidden": true
   },
   "outputs": [
    {
     "data": {
      "text/plain": [
       "'Pleural_Effusion'"
      ]
     },
     "execution_count": 69,
     "metadata": {},
     "output_type": "execute_result"
    }
   ],
   "source": [
    "name"
   ]
  },
  {
   "cell_type": "code",
   "execution_count": 70,
   "metadata": {
    "hidden": true
   },
   "outputs": [],
   "source": [
    "label = '_label_imp'"
   ]
  },
  {
   "cell_type": "code",
   "execution_count": 71,
   "metadata": {
    "collapsed": true,
    "hidden": true
   },
   "outputs": [
    {
     "name": "stdout",
     "output_type": "stream",
     "text": [
      "0\n",
      "(28434, 5)\n",
      "(0.0068184077, 0.09999714)\n",
      "(array([0., 1.]), array([28125,   309]))\n",
      "(4000, 5)\n",
      "(array([0.]), array([4000]))\n",
      "1\n",
      "(43132, 5)\n",
      "(0.10000053, 0.19999513)\n",
      "(array([0., 1.]), array([41931,  1201]))\n",
      "(8000, 5)\n",
      "(array([0.]), array([4000]))\n",
      "2\n",
      "(25637, 5)\n",
      "(0.20000881, 0.299998)\n",
      "(array([0., 1.]), array([24020,  1617]))\n",
      "(12000, 5)\n",
      "(array([0.]), array([4000]))\n",
      "3\n",
      "(18357, 5)\n",
      "(0.3000019, 0.3999765)\n",
      "(array([0., 1.]), array([16328,  2029]))\n",
      "(16000, 5)\n",
      "(array([0.]), array([4000]))\n",
      "4\n",
      "(15420, 5)\n",
      "(0.4000052, 0.4999889)\n",
      "(array([0., 1.]), array([12873,  2547]))\n",
      "(20000, 5)\n",
      "(array([0.]), array([4000]))\n",
      "5\n",
      "(14325, 5)\n",
      "(0.50000966, 0.5999653)\n",
      "(array([0., 1.]), array([11019,  3306]))\n",
      "(24000, 5)\n",
      "(array([0., 1.]), array([ 694, 3306]))\n",
      "6\n",
      "(13806, 5)\n",
      "(0.60000867, 0.6999837)\n",
      "(array([0., 1.]), array([9711, 4095]))\n",
      "(28000, 5)\n",
      "(array([1.]), array([4000]))\n",
      "7\n",
      "(14869, 5)\n",
      "(0.7000141, 0.7999976)\n",
      "(array([0., 1.]), array([9182, 5687]))\n",
      "(32000, 5)\n",
      "(array([1.]), array([4000]))\n",
      "8\n",
      "(17886, 5)\n",
      "(0.80000776, 0.89998865)\n",
      "(array([0., 1.]), array([9398, 8488]))\n",
      "(36000, 5)\n",
      "(array([1.]), array([4000]))\n",
      "9\n",
      "(23614, 5)\n",
      "(0.9000041, 0.99917287)\n",
      "(array([0., 1.]), array([ 9872, 13742]))\n",
      "(40000, 5)\n",
      "(array([1.]), array([4000]))\n"
     ]
    }
   ],
   "source": [
    "np.random.seed(0)\n",
    "for i in range(0,10):\n",
    "    print i\n",
    "    df_bin = df.loc[df['bin'] == i]\n",
    "    print(df_bin.shape)\n",
    "    print(np.min(df_bin[name+'_prob']), np.max(df_bin[name+'_prob']))\n",
    "    print(np.unique(df_bin[name+label],return_counts=True))\n",
    "    df_bin_0 = df.loc[(df['bin'] == i) & (df[name+label] ==0)]\n",
    "    df_bin_1 = df.loc[(df['bin'] == i) & (df[name+label] ==1)]\n",
    "    if i < 5:\n",
    "        if df_bin_0.shape[0] >= n:\n",
    "            df_bin = df_bin_0.sample(n=n)\n",
    "        else:\n",
    "            df_bin = df_bin_0\n",
    "            n_0 = df_bin_0.shape[0]\n",
    "            n_1 = n - n_0\n",
    "            if df_bin_1.shape[0] >= n_1:\n",
    "                df_bin = pd.concat([df_bin, df_bin_1.sample(n=n_1)]) \n",
    "    else:\n",
    "        if df_bin_1.shape[0] >= n:\n",
    "            df_bin = df_bin_1.sample(n=n)\n",
    "        else:\n",
    "            df_bin = df_bin_1\n",
    "            n_0 = df_bin_1.shape[0]\n",
    "            n_1 = n - n_0\n",
    "            if df_bin_0.shape[0] >= n_1:\n",
    "                df_bin = pd.concat([df_bin, df_bin_0.sample(n=n_1)]) \n",
    "            else:\n",
    "                df_bin = pd.concat([df_bin, df_bin_0]) \n",
    "        \n",
    "    if i == 0:\n",
    "        df_bin_all = df_bin\n",
    "    else:\n",
    "        df_bin_all = pd.concat([df_bin, df_bin_all])\n",
    "    print(df_bin_all.shape)\n",
    "    print(np.unique(df_bin[name+label],return_counts=True))"
   ]
  },
  {
   "cell_type": "code",
   "execution_count": 72,
   "metadata": {
    "hidden": true
   },
   "outputs": [
    {
     "name": "stdout",
     "output_type": "stream",
     "text": [
      "(array([0, 1, 2, 3, 4, 5, 6, 7, 8, 9]), array([4000, 4000, 4000, 4000, 4000, 4000, 4000, 4000, 4000, 4000]))\n"
     ]
    }
   ],
   "source": [
    "print(np.unique(df_bin_all['bin'] ,return_counts=True))"
   ]
  },
  {
   "cell_type": "code",
   "execution_count": 73,
   "metadata": {
    "collapsed": true,
    "hidden": true
   },
   "outputs": [
    {
     "data": {
      "image/png": "[encoded data removed]",
      "text/plain": [
       "<Figure size 432x288 with 1 Axes>"
      ]
     },
     "metadata": {
      "needs_background": "light"
     },
     "output_type": "display_data"
    }
   ],
   "source": [
    "#Reliability Curve\n",
    "from sklearn.calibration import CalibratedClassifierCV, calibration_curve\n",
    "from sklearn.metrics import (brier_score_loss, precision_score, recall_score,\n",
    "                             f1_score)\n",
    "true_label = np.asarray(df_bin_all[name+label]).astype(int)\n",
    "predicted_prob = np.asarray(df_bin_all[name+'_prob']).astype(float)\n",
    "fraction_of_positives, mean_predicted_value = calibration_curve(true_label, predicted_prob, n_bins=10)\n",
    "clf_score = brier_score_loss(true_label, predicted_prob, pos_label=1)\n",
    "plt.plot(mean_predicted_value, fraction_of_positives, \"s-\",\n",
    "                 label=\"%s (%1.3f)\" % ('Data-after binning', clf_score))\n",
    "plt.plot([0, 1], [0, 1], \"k:\", label=\"Perfectly calibrated\")\n",
    "plt.ylabel('Fraction of positives')\n",
    "plt.ylim([-0.05, 1.05])\n",
    "plt.title('Calibration plots  (reliability curve) for '+name)\n",
    "plt.legend()\n",
    "plt.show()"
   ]
  },
  {
   "cell_type": "code",
   "execution_count": 74,
   "metadata": {
    "hidden": true
   },
   "outputs": [
    {
     "name": "stdout",
     "output_type": "stream",
     "text": [
      "('/pghbio/dbmi/batmanlab/singla/Explanation_XRay/output/classifier/StanfordCheXpert_256_ICLR/explainer_MIMIC', 'Pleural_Effusion')\n"
     ]
    }
   ],
   "source": [
    "experiment_dir = os.path.join(main_dir,config['log_dir'], config['name'], 'explainer_MIMIC')\n",
    "print(experiment_dir,name)\n",
    "if not os.path.exists(experiment_dir):\n",
    "    os.makedirs(experiment_dir)"
   ]
  },
  {
   "cell_type": "code",
   "execution_count": 75,
   "metadata": {
    "collapsed": true,
    "hidden": true
   },
   "outputs": [
    {
     "name": "stdout",
     "output_type": "stream",
     "text": [
      "(40000, 2)\n",
      "40000\n",
      "\n",
      "0-0.09 0.1-0.19 0.2-0.29 0.3-0.39 0.4-0.49 0.5-0.59 0.6-0.69 0.7-0.79 0.8-0.89 0.9-0.99\n",
      "\n",
      "/pghbio/dbmi/batmanlab/singla/Image_Text_Project/MIMICCX/Data/512/13777829/56360437/view3_lateral_HE.jpeg 9\n",
      "\n",
      "/pghbio/dbmi/batmanlab/singla/Image_Text_Project/MIMICCX/Data/512/10559377/50009664/view2_lateral_HE.jpeg 9\n",
      "\n",
      "/pghbio/dbmi/batmanlab/singla/Image_Text_Project/MIMICCX/Data/512/18550032/52260689/view2_lateral_HE.jpeg 9\n",
      "\n",
      "/pghbio/dbmi/batmanlab/singla/Image_Text_Project/MIMICCX/Data/512/15263884/55078465/view2_lateral_HE.jpeg 9\n",
      "\n"
     ]
    }
   ],
   "source": [
    "df_temp = df_bin_all[['names', 'bin']]\n",
    "df_temp.to_csv(os.path.join(experiment_dir, 'list_attr_'+name+'.txt'), sep = ' ', index = None, header = None)\n",
    "print(df_temp.shape)\n",
    "one_line = str(df_temp.shape[0]) + '\\n'\n",
    "second_line = \"0-0.09 0.1-0.19 0.2-0.29 0.3-0.39 0.4-0.49 0.5-0.59 0.6-0.69 0.7-0.79 0.8-0.89 0.9-0.99\\n\"\n",
    "with open(os.path.join(experiment_dir, 'list_attr_'+name+'.txt'), 'r+') as fp:\n",
    "    lines = fp.readlines()     # lines is list of line, each element '...\\n'\n",
    "    lines.insert(0, one_line)  # you can use any index if you know the line index\n",
    "    lines.insert(1, second_line)\n",
    "    fp.seek(0)                 # file pointer locates at the beginning to write the whole file again\n",
    "    fp.writelines(lines) \n",
    "fp = open(os.path.join(experiment_dir, 'list_attr_'+name+'.txt'), 'rw')\n",
    "print(fp.readline())\n",
    "print(fp.readline())\n",
    "print(fp.readline())\n",
    "print(fp.readline())\n",
    "print(fp.readline())\n",
    "print(fp.readline())\n",
    "df_bin_all.to_csv(os.path.join(experiment_dir, 'extra','Data_Output_Classifier_'+name+'.csv'), sep = ' ', index = None)"
   ]
  },
  {
   "cell_type": "code",
   "execution_count": 114,
   "metadata": {
    "hidden": true
   },
   "outputs": [
    {
     "data": {
      "text/plain": [
       "array([0, 1, 1, 0, 1, 0, 1, 0, 0, 1])"
      ]
     },
     "execution_count": 114,
     "metadata": {},
     "output_type": "execute_result"
    }
   ],
   "source": [
    "np.random.randint(0, high=2, size=10)"
   ]
  },
  {
   "cell_type": "code",
   "execution_count": null,
   "metadata": {
    "hidden": true
   },
   "outputs": [],
   "source": []
  }
 ],
 "metadata": {
  "kernelspec": {
   "display_name": "anaconda",
   "language": "python",
   "name": "anaconda"
  },
  "language_info": {
   "codemirror_mode": {
    "name": "ipython",
    "version": 2
   },
   "file_extension": ".py",
   "mimetype": "text/x-python",
   "name": "python",
   "nbconvert_exporter": "python",
   "pygments_lexer": "ipython2",
   "version": "2.7.18"
  },
  "toc": {
   "base_numbering": 1,
   "nav_menu": {},
   "number_sections": true,
   "sideBar": true,
   "skip_h1_title": false,
   "title_cell": "Table of Contents",
   "title_sidebar": "Contents",
   "toc_cell": false,
   "toc_position": {},
   "toc_section_display": true,
   "toc_window_display": false
  }
 },
 "nbformat": 4,
 "nbformat_minor": 2
}
